{
 "cells": [
  {
   "cell_type": "markdown",
   "id": "fff0cce0-a08b-4c36-9c61-bc88dbe25cd0",
   "metadata": {},
   "source": [
    "Import useful libraries"
   ]
  },
  {
   "cell_type": "code",
   "execution_count": 3,
   "id": "resistant-television",
   "metadata": {},
   "outputs": [
    {
     "name": "stderr",
     "output_type": "stream",
     "text": [
      "Matplotlib is building the font cache; this may take a moment.\n"
     ]
    }
   ],
   "source": [
    "import numpy as np\n",
    "from matplotlib import pyplot as plt \n",
    "from pandas import read_csv\n",
    "import sys\n",
    "import os\n",
    "from matplotlib import rcParams\n",
    "import toml\n",
    "\n",
    "%load_ext autoreload\n",
    "%autoreload 2"
   ]
  },
  {
   "cell_type": "markdown",
   "id": "81e02921-372c-4591-af17-c3908eefe85f",
   "metadata": {},
   "source": [
    "# Block spin analysis"
   ]
  },
  {
   "cell_type": "code",
   "execution_count": 46,
   "id": "a3c0427b-86be-4bfd-bcad-a67fd931b1be",
   "metadata": {},
   "outputs": [],
   "source": [
    "from correlations import *\n",
    "from read_in_data import *\n",
    "from mass_fit import *\n",
    "from mass_matteo import *\n",
    "from functions import *"
   ]
  },
  {
   "cell_type": "code",
   "execution_count": 47,
   "id": "urban-difference",
   "metadata": {},
   "outputs": [
    {
     "name": "stdout",
     "output_type": "stream",
     "text": [
      "Reading traces.csv was not possible\n",
      "Reading slice.dat was not possible\n",
      "Reading data.csv was not possible\n",
      "Reshaping fermionic correlator was not possible\n"
     ]
    },
    {
     "ename": "FileNotFoundError",
     "evalue": "[Errno 2] No such file or directory: './data/mass_extraction/conf3//input.toml'",
     "output_type": "error",
     "traceback": [
      "\u001b[0;31m---------------------------------------------------------------------------\u001b[0m",
      "\u001b[0;31mFileNotFoundError\u001b[0m                         Traceback (most recent call last)",
      "\u001b[0;32m<ipython-input-47-3b899b47f46b>\u001b[0m in \u001b[0;36m<module>\u001b[0;34m\u001b[0m\n\u001b[1;32m      1\u001b[0m \u001b[0mx\u001b[0m \u001b[0;34m=\u001b[0m \u001b[0mDataset\u001b[0m\u001b[0;34m(\u001b[0m\u001b[0;36m128\u001b[0m\u001b[0;34m,\u001b[0m \u001b[0;36m128\u001b[0m\u001b[0;34m)\u001b[0m\u001b[0;34m\u001b[0m\u001b[0;34m\u001b[0m\u001b[0m\n\u001b[0;32m----> 2\u001b[0;31m \u001b[0mx\u001b[0m\u001b[0;34m.\u001b[0m\u001b[0madd_data\u001b[0m\u001b[0;34m(\u001b[0m\u001b[0;34m\"./data/mass_extraction/conf3/\"\u001b[0m \u001b[0;34m,\u001b[0m \u001b[0;34m[\u001b[0m\u001b[0;34m\"langevin\"\u001b[0m\u001b[0;34m,\u001b[0m \u001b[0;34m\"averageEpsilon\"\u001b[0m\u001b[0;34m]\u001b[0m\u001b[0;34m,\u001b[0m \u001b[0;36m1\u001b[0m\u001b[0;34m)\u001b[0m\u001b[0;34m\u001b[0m\u001b[0;34m\u001b[0m\u001b[0m\n\u001b[0m\u001b[1;32m      3\u001b[0m \u001b[0mprint\u001b[0m\u001b[0;34m(\u001b[0m\u001b[0mx\u001b[0m\u001b[0;34m.\u001b[0m\u001b[0mm_q_phys\u001b[0m\u001b[0;34m,\u001b[0m \u001b[0mexpectedM\u001b[0m\u001b[0;34m(\u001b[0m\u001b[0;36m0.7\u001b[0m\u001b[0;34m,\u001b[0m \u001b[0;36m1.5\u001b[0m\u001b[0;34m/\u001b[0m\u001b[0mnp\u001b[0m\u001b[0;34m.\u001b[0m\u001b[0msqrt\u001b[0m\u001b[0;34m(\u001b[0m\u001b[0;36m2\u001b[0m\u001b[0;34m*\u001b[0m\u001b[0;36m0.18\u001b[0m\u001b[0;34m)\u001b[0m\u001b[0;34m,\u001b[0m \u001b[0mx\u001b[0m\u001b[0;34m.\u001b[0m\u001b[0mphi\u001b[0m\u001b[0;34m[\u001b[0m\u001b[0;36m0\u001b[0m\u001b[0;34m]\u001b[0m\u001b[0;34m[\u001b[0m\u001b[0;36m0\u001b[0m\u001b[0;34m]\u001b[0m\u001b[0;34m,\u001b[0m \u001b[0;34m[\u001b[0m\u001b[0;36m0\u001b[0m\u001b[0;34m,\u001b[0m\u001b[0;36m0\u001b[0m\u001b[0;34m,\u001b[0m\u001b[0;36m0\u001b[0m\u001b[0;34m]\u001b[0m\u001b[0;34m)\u001b[0m\u001b[0;34m)\u001b[0m\u001b[0;34m\u001b[0m\u001b[0;34m\u001b[0m\u001b[0m\n\u001b[1;32m      4\u001b[0m \u001b[0mplt\u001b[0m\u001b[0;34m.\u001b[0m\u001b[0merrorbar\u001b[0m\u001b[0;34m(\u001b[0m\u001b[0mrange\u001b[0m\u001b[0;34m(\u001b[0m\u001b[0;36m1\u001b[0m\u001b[0;34m,\u001b[0m \u001b[0mx\u001b[0m\u001b[0;34m.\u001b[0m\u001b[0mNt\u001b[0m\u001b[0;34m-\u001b[0m\u001b[0;36m1\u001b[0m\u001b[0;34m)\u001b[0m\u001b[0;34m,\u001b[0m \u001b[0mx\u001b[0m\u001b[0;34m.\u001b[0m\u001b[0mcorrelator_f\u001b[0m\u001b[0;34m[\u001b[0m\u001b[0;36m0\u001b[0m\u001b[0;34m]\u001b[0m\u001b[0;34m[\u001b[0m\u001b[0;36m0\u001b[0m\u001b[0;34m]\u001b[0m\u001b[0;34m[\u001b[0m\u001b[0;36m1\u001b[0m\u001b[0;34m:\u001b[0m\u001b[0mx\u001b[0m\u001b[0;34m.\u001b[0m\u001b[0mNt\u001b[0m\u001b[0;34m-\u001b[0m\u001b[0;36m1\u001b[0m\u001b[0;34m]\u001b[0m\u001b[0;34m,\u001b[0m \u001b[0mx\u001b[0m\u001b[0;34m.\u001b[0m\u001b[0mcorrelator_f\u001b[0m\u001b[0;34m[\u001b[0m\u001b[0;36m0\u001b[0m\u001b[0;34m]\u001b[0m\u001b[0;34m[\u001b[0m\u001b[0;36m1\u001b[0m\u001b[0;34m]\u001b[0m\u001b[0;34m[\u001b[0m\u001b[0;36m1\u001b[0m\u001b[0;34m:\u001b[0m\u001b[0mx\u001b[0m\u001b[0;34m.\u001b[0m\u001b[0mNt\u001b[0m\u001b[0;34m-\u001b[0m\u001b[0;36m1\u001b[0m\u001b[0;34m]\u001b[0m\u001b[0;34m,\u001b[0m \u001b[0mfmt\u001b[0m\u001b[0;34m=\u001b[0m\u001b[0;34m'.'\u001b[0m\u001b[0;34m)\u001b[0m\u001b[0;34m\u001b[0m\u001b[0;34m\u001b[0m\u001b[0m\n\u001b[1;32m      5\u001b[0m \u001b[0mplt\u001b[0m\u001b[0;34m.\u001b[0m\u001b[0mshow\u001b[0m\u001b[0;34m(\u001b[0m\u001b[0;34m)\u001b[0m\u001b[0;34m\u001b[0m\u001b[0;34m\u001b[0m\u001b[0m\n",
      "\u001b[0;32m~/QuarkMesonModel/analysis/functions.py\u001b[0m in \u001b[0;36madd_data\u001b[0;34m(self, folder, param, mode)\u001b[0m\n\u001b[1;32m     32\u001b[0m              \u001b[0mprint\u001b[0m\u001b[0;34m(\u001b[0m\u001b[0;34m\"Reshaping fermionic correlator was not possible\"\u001b[0m\u001b[0;34m)\u001b[0m\u001b[0;34m\u001b[0m\u001b[0;34m\u001b[0m\u001b[0m\n\u001b[1;32m     33\u001b[0m \u001b[0;34m\u001b[0m\u001b[0m\n\u001b[0;32m---> 34\u001b[0;31m         \u001b[0mself\u001b[0m\u001b[0;34m.\u001b[0m\u001b[0mtoml_params\u001b[0m \u001b[0;34m=\u001b[0m \u001b[0mself\u001b[0m\u001b[0;34m.\u001b[0m\u001b[0mget_toml_params\u001b[0m\u001b[0;34m(\u001b[0m\u001b[0mfolder\u001b[0m \u001b[0;34m+\u001b[0m \u001b[0;34m'/input.toml'\u001b[0m\u001b[0;34m)\u001b[0m\u001b[0;34m\u001b[0m\u001b[0;34m\u001b[0m\u001b[0m\n\u001b[0m\u001b[1;32m     35\u001b[0m         \u001b[0mself\u001b[0m\u001b[0;34m.\u001b[0m\u001b[0mvolume\u001b[0m \u001b[0;34m=\u001b[0m \u001b[0;34m(\u001b[0m\u001b[0mself\u001b[0m\u001b[0;34m.\u001b[0m\u001b[0mNt\u001b[0m\u001b[0;34m,\u001b[0m \u001b[0mself\u001b[0m\u001b[0;34m.\u001b[0m\u001b[0mNx\u001b[0m\u001b[0;34m)\u001b[0m\u001b[0;34m\u001b[0m\u001b[0;34m\u001b[0m\u001b[0m\n\u001b[1;32m     36\u001b[0m \u001b[0;34m\u001b[0m\u001b[0m\n",
      "\u001b[0;32m~/QuarkMesonModel/analysis/functions.py\u001b[0m in \u001b[0;36mget_toml_params\u001b[0;34m(self, filename)\u001b[0m\n\u001b[1;32m    136\u001b[0m \u001b[0;34m\u001b[0m\u001b[0m\n\u001b[1;32m    137\u001b[0m     \u001b[0;32mdef\u001b[0m \u001b[0mget_toml_params\u001b[0m\u001b[0;34m(\u001b[0m\u001b[0mself\u001b[0m\u001b[0;34m,\u001b[0m \u001b[0mfilename\u001b[0m\u001b[0;34m)\u001b[0m\u001b[0;34m:\u001b[0m\u001b[0;34m\u001b[0m\u001b[0;34m\u001b[0m\u001b[0m\n\u001b[0;32m--> 138\u001b[0;31m         \u001b[0mparams\u001b[0m \u001b[0;34m=\u001b[0m \u001b[0mtoml\u001b[0m\u001b[0;34m.\u001b[0m\u001b[0mload\u001b[0m\u001b[0;34m(\u001b[0m\u001b[0mfilename\u001b[0m\u001b[0;34m)\u001b[0m\u001b[0;34m\u001b[0m\u001b[0;34m\u001b[0m\u001b[0m\n\u001b[0m\u001b[1;32m    139\u001b[0m         \u001b[0;32mreturn\u001b[0m \u001b[0mparams\u001b[0m\u001b[0;34m\u001b[0m\u001b[0;34m\u001b[0m\u001b[0m\n\u001b[1;32m    140\u001b[0m \u001b[0;34m\u001b[0m\u001b[0m\n",
      "\u001b[0;32m~/.local/lib/python3.9/site-packages/toml/decoder.py\u001b[0m in \u001b[0;36mload\u001b[0;34m(f, _dict, decoder)\u001b[0m\n\u001b[1;32m    131\u001b[0m \u001b[0;34m\u001b[0m\u001b[0m\n\u001b[1;32m    132\u001b[0m     \u001b[0;32mif\u001b[0m \u001b[0m_ispath\u001b[0m\u001b[0;34m(\u001b[0m\u001b[0mf\u001b[0m\u001b[0;34m)\u001b[0m\u001b[0;34m:\u001b[0m\u001b[0;34m\u001b[0m\u001b[0;34m\u001b[0m\u001b[0m\n\u001b[0;32m--> 133\u001b[0;31m         \u001b[0;32mwith\u001b[0m \u001b[0mio\u001b[0m\u001b[0;34m.\u001b[0m\u001b[0mopen\u001b[0m\u001b[0;34m(\u001b[0m\u001b[0m_getpath\u001b[0m\u001b[0;34m(\u001b[0m\u001b[0mf\u001b[0m\u001b[0;34m)\u001b[0m\u001b[0;34m,\u001b[0m \u001b[0mencoding\u001b[0m\u001b[0;34m=\u001b[0m\u001b[0;34m'utf-8'\u001b[0m\u001b[0;34m)\u001b[0m \u001b[0;32mas\u001b[0m \u001b[0mffile\u001b[0m\u001b[0;34m:\u001b[0m\u001b[0;34m\u001b[0m\u001b[0;34m\u001b[0m\u001b[0m\n\u001b[0m\u001b[1;32m    134\u001b[0m             \u001b[0;32mreturn\u001b[0m \u001b[0mloads\u001b[0m\u001b[0;34m(\u001b[0m\u001b[0mffile\u001b[0m\u001b[0;34m.\u001b[0m\u001b[0mread\u001b[0m\u001b[0;34m(\u001b[0m\u001b[0;34m)\u001b[0m\u001b[0;34m,\u001b[0m \u001b[0m_dict\u001b[0m\u001b[0;34m,\u001b[0m \u001b[0mdecoder\u001b[0m\u001b[0;34m)\u001b[0m\u001b[0;34m\u001b[0m\u001b[0;34m\u001b[0m\u001b[0m\n\u001b[1;32m    135\u001b[0m     \u001b[0;32melif\u001b[0m \u001b[0misinstance\u001b[0m\u001b[0;34m(\u001b[0m\u001b[0mf\u001b[0m\u001b[0;34m,\u001b[0m \u001b[0mlist\u001b[0m\u001b[0;34m)\u001b[0m\u001b[0;34m:\u001b[0m\u001b[0;34m\u001b[0m\u001b[0;34m\u001b[0m\u001b[0m\n",
      "\u001b[0;31mFileNotFoundError\u001b[0m: [Errno 2] No such file or directory: './data/mass_extraction/conf3//input.toml'"
     ]
    }
   ],
   "source": [
    "x = Dataset(128, 128)\n",
    "x.add_data(\"./data/mass_extraction/conf3/\" , [\"langevin\", \"averageEpsilon\"], 1)\n",
    "print(x.m_q_phys, expectedM(0.7, 1.5/np.sqrt(2*0.18), x.phi[0][0], [0,0,0]))\n",
    "plt.errorbar(range(1, x.Nt-1), x.correlator_f[0][0][1:x.Nt-1], x.correlator_f[0][1][1:x.Nt-1], fmt='.')\n",
    "plt.show()"
   ]
  },
  {
   "cell_type": "code",
   "execution_count": null,
   "id": "ultimate-spending",
   "metadata": {},
   "outputs": [],
   "source": [
    "plt.plot([8, 16, 32, 64], [0.620737, 0.623195, 0.623918, 0.624308], 'o--', markersize=4)\n",
    "plt.fill([8, 8, 64, 64], [0.614, 0.616, 0.616, 0.614], color=\"green\", label=\"HMC + pseudof. Timoteo\")\n",
    "plt.grid()\n",
    "plt.xlabel(\"N\", fontsize=14)\n",
    "plt.ylabel(r\"$\\left\\langle|\\phi|\\right\\rangle$\", fontsize=14)\n",
    "ax = plt.gca()\n",
    "ax.set_xticks([8, 16, 32, 64])\n",
    "#ax.set_xticklabels([\"8\", \"16\", \"32\", \"64\"])\n",
    "plt.savefig(\"timo_vol.pdf\")\n"
   ]
  },
  {
   "cell_type": "code",
   "execution_count": 69,
   "id": "civil-spoke",
   "metadata": {},
   "outputs": [
    {
     "name": "stdout",
     "output_type": "stream",
     "text": [
      "Reshaping fermionic correlator was not possible\n",
      "Reshaping fermionic correlator was not possible\n",
      "Reshaping fermionic correlator was not possible\n",
      "Reshaping fermionic correlator was not possible\n",
      "Reshaping fermionic correlator was not possible\n",
      "Reshaping fermionic correlator was not possible\n",
      "Reshaping fermionic correlator was not possible\n",
      "Reshaping fermionic correlator was not possible\n",
      "Reshaping fermionic correlator was not possible\n"
     ]
    }
   ],
   "source": [
    "p = (\"physics\", \"kappa\")\n",
    "simulations = []\n",
    "for i in range(1, 11):\n",
    "    dataset = Dataset(16, 16)\n",
    "    dataset.add_data(\"../conf\" + str(i) + \"/\", p, 0)\n",
    "    simulations.append(dataset)"
   ]
  },
  {
   "cell_type": "code",
   "execution_count": 70,
   "id": "understanding-somerset",
   "metadata": {},
   "outputs": [
    {
     "name": "stdout",
     "output_type": "stream",
     "text": [
      "kappa Npoints: 3700  \t val: 0.6238986324324308 +- 0.0007115146685430978 \t ACtime: 0.5151167012150855\n",
      "kappa Npoints: 4289  \t val: 0.7013612625320578 +- 0.0007317464406680481 \t ACtime: 0.5487865038734479\n",
      "kappa Npoints: 4295  \t val: 0.7970136740395811 +- 0.0007463746505864609 \t ACtime: 0.500087372608049\n",
      "kappa Npoints: 4792  \t val: 0.9238763931552592 +- 0.0007834420689514705 \t ACtime: 0.564521218099431\n",
      "kappa Npoints: 4727  \t val: 1.0909941377194847 +- 0.0008934763630666464 \t ACtime: 0.6377239357490732\n",
      "kappa Npoints: 4985  \t val: 1.3169736970912755 +- 0.0010087831968179984 \t ACtime: 0.755591740463935\n",
      "kappa Npoints: 5810  \t val: 1.61978400516351 +- 0.0010582496776131562 \t ACtime: 0.9015084800219908\n",
      "kappa Npoints: 6473  \t val: 1.9980606951954294 +- 0.0010522135171941796 \t ACtime: 1.0107011787738778\n",
      "kappa Npoints: 7472  \t val: 2.4257605206102797 +- 0.0008886251732480933 \t ACtime: 0.9875753707040578\n",
      "kappa Npoints: 7804  \t val: 2.8602348436699168 +- 0.0007640270988239481 \t ACtime: 0.9137294318047566\n"
     ]
    }
   ],
   "source": [
    "for sim in simulations:\n",
    "    sim.compute_mag(p, printing=True)"
   ]
  },
  {
   "cell_type": "code",
   "execution_count": 71,
   "id": "dangerous-cruise",
   "metadata": {},
   "outputs": [
    {
     "name": "stdout",
     "output_type": "stream",
     "text": [
      "kappa Npoints: 3700  \t val: 0.6238986324324308 +- 0.0007115146685430978 \t ACtime: 0.5151167012150855\n",
      "kappa Npoints: 4289  \t val: 0.7013612625320578 +- 0.0007317464406680481 \t ACtime: 0.5487865038734479\n",
      "kappa Npoints: 4295  \t val: 0.7970136740395811 +- 0.0007463746505864609 \t ACtime: 0.500087372608049\n",
      "kappa Npoints: 4792  \t val: 0.9238763931552592 +- 0.0007834420689514705 \t ACtime: 0.564521218099431\n",
      "kappa Npoints: 4727  \t val: 1.0909941377194847 +- 0.0008934763630666464 \t ACtime: 0.6377239357490732\n",
      "kappa Npoints: 4985  \t val: 1.3169736970912755 +- 0.0010087831968179984 \t ACtime: 0.755591740463935\n",
      "kappa Npoints: 5810  \t val: 1.61978400516351 +- 0.0010582496776131562 \t ACtime: 0.9015084800219908\n",
      "kappa Npoints: 6473  \t val: 1.9980606951954294 +- 0.0010522135171941796 \t ACtime: 1.0107011787738778\n",
      "kappa Npoints: 7472  \t val: 2.4257605206102797 +- 0.0008886251732480933 \t ACtime: 0.9875753707040578\n",
      "kappa Npoints: 7804  \t val: 2.8602348436699168 +- 0.0007640270988239481 \t ACtime: 0.9137294318047566\n"
     ]
    }
   ],
   "source": [
    "for sim in simulations:\n",
    "    sim.compute_abs_mag(p, printing=True)"
   ]
  },
  {
   "cell_type": "code",
   "execution_count": 72,
   "id": "handy-softball",
   "metadata": {},
   "outputs": [
    {
     "name": "stdout",
     "output_type": "stream",
     "text": [
      "kappa Npoints: 3700  \t val: -0.2348848840540541 +- 0.0002426939675851769 \t ACtime: 0.49290677104476976\n",
      "kappa Npoints: 4289  \t val: -0.19467359827465539 +- 0.0002421135655657446 \t ACtime: 0.49205997169194227\n",
      "kappa Npoints: 4295  \t val: -0.14877794472642547 +- 0.0002641384364132636 \t ACtime: 0.500870942011296\n",
      "kappa Npoints: 4792  \t val: -0.09173224300918174 +- 0.0002791196639755436 \t ACtime: 0.5335258689899363\n",
      "kappa Npoints: 4727  \t val: -0.017856488596943786 +- 0.00032473342705693973 \t ACtime: 0.6058093691149302\n",
      "kappa Npoints: 4985  \t val: 0.0807432538816448 +- 0.0003643915925268565 \t ACtime: 0.6942330017779477\n",
      "kappa Npoints: 5810  \t val: 0.2129628337349399 +- 0.00038526535643765476 \t ACtime: 0.7870932054167978\n",
      "kappa Npoints: 6473  \t val: 0.3839136388073535 +- 0.00036934358624356856 \t ACtime: 0.7866091817660827\n",
      "kappa Npoints: 7472  \t val: 0.5877879590471109 +- 0.0003492892852509603 \t ACtime: 0.8276220211696903\n",
      "kappa Npoints: 7804  \t val: 0.8118052379548979 +- 0.0003116050748745269 \t ACtime: 0.7270106757606472\n"
     ]
    }
   ],
   "source": [
    "for sim in simulations:\n",
    "    sim.compute_condensate(p, printing=True)"
   ]
  },
  {
   "cell_type": "code",
   "execution_count": 74,
   "id": "tested-excerpt",
   "metadata": {},
   "outputs": [
    {
     "name": "stdout",
     "output_type": "stream",
     "text": [
      "kappa Npoints: 3700  \t val: 2.258243405262694 +- 1.4756357345061029\n",
      "kappa Npoints: 4289  \t val: 1.5885033246255438 +- 0.44362867155542957\n",
      "kappa Npoints: 4295  \t val: 1.4511679188328883 +- 0.3100534671467785\n",
      "kappa Npoints: 4792  \t val: 3.1806806125647897 +- 3.0827773050936877\n",
      "kappa Npoints: 4727  \t val: 1.5852149757031613 +- 0.35363673418623837\n",
      "kappa Npoints: 4985  \t val: 1.4193315257971042 +- 0.22616768967504491\n",
      "kappa Npoints: 5810  \t val: 1.2722098781121094 +- 0.15110424356403215\n",
      "kappa Npoints: 6473  \t val: nan +- nan\n",
      "kappa Npoints: 7472  \t val: 1.3792661871195748 +- 0.16472943635267415\n",
      "kappa Npoints: 7804  \t val: 1.7381942247391022 +- 0.3310266765721093\n"
     ]
    }
   ],
   "source": [
    "for sim in simulations:\n",
    "    sim.compute_mphir(p, printing=True)"
   ]
  },
  {
   "cell_type": "code",
   "execution_count": 77,
   "id": "smoking-cuisine",
   "metadata": {},
   "outputs": [
    {
     "ename": "AttributeError",
     "evalue": "'Dataset' object has no attribute 'Sq_t'",
     "output_type": "error",
     "traceback": [
      "\u001b[0;31m---------------------------------------------------------------------------\u001b[0m",
      "\u001b[0;31mAttributeError\u001b[0m                            Traceback (most recent call last)",
      "\u001b[0;32m<ipython-input-77-c7b2a7b9355e>\u001b[0m in \u001b[0;36m<module>\u001b[0;34m\u001b[0m\n\u001b[1;32m      1\u001b[0m \u001b[0;32mfor\u001b[0m \u001b[0msim\u001b[0m \u001b[0;32min\u001b[0m \u001b[0msimulations\u001b[0m\u001b[0;34m:\u001b[0m\u001b[0;34m\u001b[0m\u001b[0;34m\u001b[0m\u001b[0m\n\u001b[0;32m----> 2\u001b[0;31m     \u001b[0msim\u001b[0m\u001b[0;34m.\u001b[0m\u001b[0mcompute_mqphys\u001b[0m\u001b[0;34m(\u001b[0m\u001b[0mp\u001b[0m\u001b[0;34m,\u001b[0m \u001b[0mprinting\u001b[0m\u001b[0;34m=\u001b[0m\u001b[0;32mTrue\u001b[0m\u001b[0;34m)\u001b[0m\u001b[0;34m\u001b[0m\u001b[0;34m\u001b[0m\u001b[0m\n\u001b[0m",
      "\u001b[0;32m~/QuarkMesonModel/analysis/functions.py\u001b[0m in \u001b[0;36mcompute_mqphys\u001b[0;34m(self, p, printing)\u001b[0m\n\u001b[1;32m    127\u001b[0m \u001b[0;34m\u001b[0m\u001b[0m\n\u001b[1;32m    128\u001b[0m     \u001b[0;32mdef\u001b[0m \u001b[0mcompute_mqphys\u001b[0m\u001b[0;34m(\u001b[0m\u001b[0mself\u001b[0m\u001b[0;34m,\u001b[0m \u001b[0mp\u001b[0m\u001b[0;34m,\u001b[0m \u001b[0mprinting\u001b[0m\u001b[0;34m=\u001b[0m\u001b[0;32mFalse\u001b[0m\u001b[0;34m)\u001b[0m\u001b[0;34m:\u001b[0m\u001b[0;34m\u001b[0m\u001b[0;34m\u001b[0m\u001b[0m\n\u001b[0;32m--> 129\u001b[0;31m         \u001b[0mval\u001b[0m\u001b[0;34m,\u001b[0m \u001b[0merr\u001b[0m \u001b[0;34m=\u001b[0m \u001b[0mget_fermionic_correlator\u001b[0m\u001b[0;34m(\u001b[0m\u001b[0mself\u001b[0m\u001b[0;34m.\u001b[0m\u001b[0mSq_t\u001b[0m\u001b[0;34m)\u001b[0m\u001b[0;34m\u001b[0m\u001b[0;34m\u001b[0m\u001b[0m\n\u001b[0m\u001b[1;32m    130\u001b[0m         \u001b[0mself\u001b[0m\u001b[0;34m.\u001b[0m\u001b[0mcorrelator_f\u001b[0m\u001b[0;34m.\u001b[0m\u001b[0mappend\u001b[0m\u001b[0;34m(\u001b[0m\u001b[0;34m(\u001b[0m\u001b[0mval\u001b[0m\u001b[0;34m,\u001b[0m \u001b[0merr\u001b[0m\u001b[0;34m)\u001b[0m\u001b[0;34m)\u001b[0m\u001b[0;34m\u001b[0m\u001b[0;34m\u001b[0m\u001b[0m\n\u001b[1;32m    131\u001b[0m         \u001b[0mval\u001b[0m\u001b[0;34m,\u001b[0m \u001b[0merr\u001b[0m \u001b[0;34m=\u001b[0m \u001b[0mget_phys_quark_mass_via_timeslices\u001b[0m\u001b[0;34m(\u001b[0m\u001b[0mval\u001b[0m\u001b[0;34m,\u001b[0m \u001b[0mvolume\u001b[0m\u001b[0;34m)\u001b[0m\u001b[0;34m\u001b[0m\u001b[0;34m\u001b[0m\u001b[0m\n",
      "\u001b[0;31mAttributeError\u001b[0m: 'Dataset' object has no attribute 'Sq_t'"
     ]
    }
   ],
   "source": [
    "for sim in simulations:\n",
    "    sim.compute_mqphys(p, printing=True)"
   ]
  },
  {
   "cell_type": "markdown",
   "id": "7d4aab0c-ef1f-4f2f-afaa-f3d0890671ef",
   "metadata": {},
   "source": [
    "# Magnetisation"
   ]
  },
  {
   "cell_type": "code",
   "execution_count": 43,
   "id": "3c07fb6d-af45-4c74-baba-0f33e7c20a13",
   "metadata": {},
   "outputs": [
    {
     "data": {
      "image/png": "[encoded data removed]",
      "text/plain": [
       "<Figure size 432x288 with 1 Axes>"
      ]
     },
     "metadata": {
      "needs_background": "light"
     },
     "output_type": "display_data"
    }
   ],
   "source": [
    "plt.errorbar(dataset1.parameters, [v[0] for v in dataset1.phi], [v[1] for v in dataset1.phi], fmt='o--', markersize=4, label=\"Lang. + bilin. Matteo\")\n",
    "#plt.errorbar([0.01], [0.625], [1e-3], fmt='o', label=\"Lang. + pseudof. Timoteo\")\n",
    "plt.grid()\n",
    "plt.xscale('log')\n",
    "plt.xlabel(\"dt\", fontsize=14)\n",
    "plt.ylabel(r\"$\\left\\langle|\\phi|\\right\\rangle$\", fontsize=14)\n",
    "#plt.fill([1e-3, 1e-3, 5e-2, 5e-2], [0.614, 0.616, 0.616, 0.614], color=\"green\", label=\"HMC + pseudof. Timoteo\")\n",
    "plt.legend(fontsize=12)\n",
    "plt.tight_layout()\n",
    "plt.savefig(\"timo.pdf\")"
   ]
  },
  {
   "cell_type": "code",
   "execution_count": 7,
   "id": "upper-flexibility",
   "metadata": {},
   "outputs": [
    {
     "ename": "OSError",
     "evalue": "/home/matteo/Downloads/ac/build/libac.so: cannot open shared object file: No such file or directory",
     "output_type": "error",
     "traceback": [
      "\u001b[0;31m---------------------------------------------------------------------------\u001b[0m",
      "\u001b[0;31mOSError\u001b[0m                                   Traceback (most recent call last)",
      "\u001b[0;32m<ipython-input-7-5421283a4aaf>\u001b[0m in \u001b[0;36m<module>\u001b[0;34m\u001b[0m\n\u001b[1;32m      1\u001b[0m \u001b[0mdataset1\u001b[0m \u001b[0;34m=\u001b[0m \u001b[0mDataset\u001b[0m\u001b[0;34m(\u001b[0m\u001b[0;36m64\u001b[0m\u001b[0;34m,\u001b[0m \u001b[0;36m64\u001b[0m\u001b[0;34m)\u001b[0m\u001b[0;34m\u001b[0m\u001b[0;34m\u001b[0m\u001b[0m\n\u001b[0;32m----> 2\u001b[0;31m \u001b[0mdataset1\u001b[0m\u001b[0;34m.\u001b[0m\u001b[0madd_data\u001b[0m\u001b[0;34m(\u001b[0m\u001b[0;34m\"./data/confss/\"\u001b[0m\u001b[0;34m,\u001b[0m \u001b[0;34m[\u001b[0m\u001b[0;34m\"langevin\"\u001b[0m\u001b[0;34m,\u001b[0m \u001b[0;34m\"averageEpsilon\"\u001b[0m\u001b[0;34m]\u001b[0m\u001b[0;34m,\u001b[0m \u001b[0;36m1\u001b[0m\u001b[0;34m)\u001b[0m\u001b[0;34m\u001b[0m\u001b[0;34m\u001b[0m\u001b[0m\n\u001b[0m",
      "\u001b[0;32m~/QuarkMesonModel/analysis/functions.py\u001b[0m in \u001b[0;36madd_data\u001b[0;34m(self, folder, param, mode)\u001b[0m\n\u001b[1;32m     24\u001b[0m \u001b[0;34m\u001b[0m\u001b[0m\n\u001b[1;32m     25\u001b[0m         \u001b[0;31m# magnetisation\u001b[0m\u001b[0;34m\u001b[0m\u001b[0;34m\u001b[0m\u001b[0;34m\u001b[0m\u001b[0m\n\u001b[0;32m---> 26\u001b[0;31m         \u001b[0mblob\u001b[0m \u001b[0;34m=\u001b[0m \u001b[0mComputeStatistics\u001b[0m\u001b[0;34m(\u001b[0m\u001b[0mfields_data\u001b[0m\u001b[0;34m[\u001b[0m\u001b[0;34m'sigma'\u001b[0m\u001b[0;34m]\u001b[0m\u001b[0;34m)\u001b[0m\u001b[0;34m\u001b[0m\u001b[0;34m\u001b[0m\u001b[0m\n\u001b[0m\u001b[1;32m     27\u001b[0m         \u001b[0mself\u001b[0m\u001b[0;34m.\u001b[0m\u001b[0mphi\u001b[0m\u001b[0;34m.\u001b[0m\u001b[0mappend\u001b[0m\u001b[0;34m(\u001b[0m\u001b[0;34m(\u001b[0m\u001b[0mblob\u001b[0m\u001b[0;34m.\u001b[0m\u001b[0maverage\u001b[0m\u001b[0;34m,\u001b[0m \u001b[0mblob\u001b[0m\u001b[0;34m.\u001b[0m\u001b[0msigmaF\u001b[0m\u001b[0;34m)\u001b[0m\u001b[0;34m)\u001b[0m\u001b[0;34m\u001b[0m\u001b[0;34m\u001b[0m\u001b[0m\n\u001b[1;32m     28\u001b[0m         \u001b[0mavgxxx\u001b[0m \u001b[0;34m=\u001b[0m \u001b[0mblob\u001b[0m\u001b[0;34m.\u001b[0m\u001b[0maverage\u001b[0m\u001b[0;34m\u001b[0m\u001b[0;34m\u001b[0m\u001b[0m\n",
      "\u001b[0;32m~/QuarkMesonModel/analysis/functions.py\u001b[0m in \u001b[0;36mComputeStatistics\u001b[0;34m(data)\u001b[0m\n\u001b[1;32m     86\u001b[0m \u001b[0;34m\u001b[0m\u001b[0m\n\u001b[1;32m     87\u001b[0m \u001b[0;32mdef\u001b[0m \u001b[0mComputeStatistics\u001b[0m\u001b[0;34m(\u001b[0m\u001b[0mdata\u001b[0m\u001b[0;34m)\u001b[0m\u001b[0;34m:\u001b[0m\u001b[0;34m\u001b[0m\u001b[0;34m\u001b[0m\u001b[0m\n\u001b[0;32m---> 88\u001b[0;31m         \u001b[0mft_lib\u001b[0m \u001b[0;34m=\u001b[0m \u001b[0mctypes\u001b[0m\u001b[0;34m.\u001b[0m\u001b[0mcdll\u001b[0m\u001b[0;34m.\u001b[0m\u001b[0mLoadLibrary\u001b[0m\u001b[0;34m(\u001b[0m\u001b[0mlib_path\u001b[0m \u001b[0;34m+\u001b[0m \u001b[0;34m\"libac.so\"\u001b[0m\u001b[0;34m)\u001b[0m\u001b[0;34m\u001b[0m\u001b[0;34m\u001b[0m\u001b[0m\n\u001b[0m\u001b[1;32m     89\u001b[0m \u001b[0;34m\u001b[0m\u001b[0m\n\u001b[1;32m     90\u001b[0m         \u001b[0marg\u001b[0m \u001b[0;34m=\u001b[0m \u001b[0;34m(\u001b[0m\u001b[0mctypes\u001b[0m\u001b[0;34m.\u001b[0m\u001b[0mc_double\u001b[0m \u001b[0;34m*\u001b[0m \u001b[0mlen\u001b[0m\u001b[0;34m(\u001b[0m\u001b[0mdata\u001b[0m\u001b[0;34m)\u001b[0m\u001b[0;34m)\u001b[0m\u001b[0;34m(\u001b[0m\u001b[0;34m*\u001b[0m\u001b[0mdata\u001b[0m\u001b[0;34m)\u001b[0m\u001b[0;34m\u001b[0m\u001b[0;34m\u001b[0m\u001b[0m\n",
      "\u001b[0;32m/usr/lib/python3.9/ctypes/__init__.py\u001b[0m in \u001b[0;36mLoadLibrary\u001b[0;34m(self, name)\u001b[0m\n\u001b[1;32m    450\u001b[0m \u001b[0;34m\u001b[0m\u001b[0m\n\u001b[1;32m    451\u001b[0m     \u001b[0;32mdef\u001b[0m \u001b[0mLoadLibrary\u001b[0m\u001b[0;34m(\u001b[0m\u001b[0mself\u001b[0m\u001b[0;34m,\u001b[0m \u001b[0mname\u001b[0m\u001b[0;34m)\u001b[0m\u001b[0;34m:\u001b[0m\u001b[0;34m\u001b[0m\u001b[0;34m\u001b[0m\u001b[0m\n\u001b[0;32m--> 452\u001b[0;31m         \u001b[0;32mreturn\u001b[0m \u001b[0mself\u001b[0m\u001b[0;34m.\u001b[0m\u001b[0m_dlltype\u001b[0m\u001b[0;34m(\u001b[0m\u001b[0mname\u001b[0m\u001b[0;34m)\u001b[0m\u001b[0;34m\u001b[0m\u001b[0;34m\u001b[0m\u001b[0m\n\u001b[0m\u001b[1;32m    453\u001b[0m \u001b[0;34m\u001b[0m\u001b[0m\n\u001b[1;32m    454\u001b[0m     \u001b[0m__class_getitem__\u001b[0m \u001b[0;34m=\u001b[0m \u001b[0mclassmethod\u001b[0m\u001b[0;34m(\u001b[0m\u001b[0m_types\u001b[0m\u001b[0;34m.\u001b[0m\u001b[0mGenericAlias\u001b[0m\u001b[0;34m)\u001b[0m\u001b[0;34m\u001b[0m\u001b[0;34m\u001b[0m\u001b[0m\n",
      "\u001b[0;32m/usr/lib/python3.9/ctypes/__init__.py\u001b[0m in \u001b[0;36m__init__\u001b[0;34m(self, name, mode, handle, use_errno, use_last_error, winmode)\u001b[0m\n\u001b[1;32m    372\u001b[0m \u001b[0;34m\u001b[0m\u001b[0m\n\u001b[1;32m    373\u001b[0m         \u001b[0;32mif\u001b[0m \u001b[0mhandle\u001b[0m \u001b[0;32mis\u001b[0m \u001b[0;32mNone\u001b[0m\u001b[0;34m:\u001b[0m\u001b[0;34m\u001b[0m\u001b[0;34m\u001b[0m\u001b[0m\n\u001b[0;32m--> 374\u001b[0;31m             \u001b[0mself\u001b[0m\u001b[0;34m.\u001b[0m\u001b[0m_handle\u001b[0m \u001b[0;34m=\u001b[0m \u001b[0m_dlopen\u001b[0m\u001b[0;34m(\u001b[0m\u001b[0mself\u001b[0m\u001b[0;34m.\u001b[0m\u001b[0m_name\u001b[0m\u001b[0;34m,\u001b[0m \u001b[0mmode\u001b[0m\u001b[0;34m)\u001b[0m\u001b[0;34m\u001b[0m\u001b[0;34m\u001b[0m\u001b[0m\n\u001b[0m\u001b[1;32m    375\u001b[0m         \u001b[0;32melse\u001b[0m\u001b[0;34m:\u001b[0m\u001b[0;34m\u001b[0m\u001b[0;34m\u001b[0m\u001b[0m\n\u001b[1;32m    376\u001b[0m             \u001b[0mself\u001b[0m\u001b[0;34m.\u001b[0m\u001b[0m_handle\u001b[0m \u001b[0;34m=\u001b[0m \u001b[0mhandle\u001b[0m\u001b[0;34m\u001b[0m\u001b[0;34m\u001b[0m\u001b[0m\n",
      "\u001b[0;31mOSError\u001b[0m: /home/matteo/Downloads/ac/build/libac.so: cannot open shared object file: No such file or directory"
     ]
    }
   ],
   "source": [
    "dataset1 = Dataset(64, 64)\n",
    "dataset1.add_data(\"./data/confss/\", [\"langevin\", \"averageEpsilon\"], 1)"
   ]
  },
  {
   "cell_type": "code",
   "execution_count": 8,
   "id": "brown-algorithm",
   "metadata": {},
   "outputs": [
    {
     "data": {
      "image/png": "[encoded data removed]",
      "text/plain": [
       "<Figure size 432x288 with 1 Axes>"
      ]
     },
     "metadata": {
      "needs_background": "light"
     },
     "output_type": "display_data"
    }
   ],
   "source": [
    "plt.errorbar(dataset1.parameters, [v[0] for v in dataset1.phi], [v[1] for v in dataset1.phi], fmt='o--', markersize=4, label=\"Lang. + bilin. Matteo\")\n",
    "plt.grid()\n",
    "plt.xscale('log')\n",
    "plt.xlabel(\"dt\", fontsize=14)\n",
    "plt.ylabel(r\"$\\left\\langle|\\phi|\\right\\rangle$\", fontsize=14)\n",
    "plt.legend(fontsize=12)\n",
    "plt.tight_layout()"
   ]
  },
  {
   "cell_type": "markdown",
   "id": "83782628-3133-4b15-9ece-5b7b4c60178b",
   "metadata": {},
   "source": [
    "# Susceptibility"
   ]
  },
  {
   "cell_type": "code",
   "execution_count": 9,
   "id": "45e6d922-5430-4c19-8aa7-7c45c211c3f0",
   "metadata": {},
   "outputs": [
    {
     "data": {
      "image/png": "[encoded data removed]",
      "text/plain": [
       "<Figure size 432x288 with 1 Axes>"
      ]
     },
     "metadata": {
      "needs_background": "light"
     },
     "output_type": "display_data"
    }
   ],
   "source": [
    "plt.errorbar(dataset1.parameters, [v[0] for v in dataset1.chi2], [v[1] for v in dataset1.chi2], fmt='o--', markersize=4, label='s=1')\n",
    "plt.legend()\n",
    "plt.show()"
   ]
  },
  {
   "cell_type": "markdown",
   "id": "2e3cb9a6-5af3-4525-a1f2-52e5ea9cee18",
   "metadata": {},
   "source": [
    "# Condensate"
   ]
  },
  {
   "cell_type": "code",
   "execution_count": 10,
   "id": "48ebe606-4603-4d30-92e6-f9e738daec37",
   "metadata": {},
   "outputs": [
    {
     "data": {
      "image/png": "[encoded data removed]",
      "text/plain": [
       "<Figure size 432x288 with 1 Axes>"
      ]
     },
     "metadata": {
      "needs_background": "light"
     },
     "output_type": "display_data"
    }
   ],
   "source": [
    "plt.errorbar(dataset1.parameters, [dataset1.Nx*dataset1.Nx*v[0] for v in dataset1.condensate], [dataset1.Nx*dataset1.Nx*v[1] for v in dataset1.condensate], fmt='o--', markersize=4, label='s=1')\n",
    "plt.grid()\n",
    "plt.legend()\n",
    "plt.title(\"this is the sum, not the average\")\n",
    "plt.show()"
   ]
  },
  {
   "cell_type": "markdown",
   "id": "ca0c93fd-d3b7-44ac-8d56-d0e293ef7653",
   "metadata": {},
   "source": [
    "# Physical quark mass"
   ]
  },
  {
   "cell_type": "code",
   "execution_count": 11,
   "id": "d31afed3-b95e-4c34-9680-178c96a17b53",
   "metadata": {},
   "outputs": [
    {
     "data": {
      "image/png": "[encoded data removed]",
      "text/plain": [
       "<Figure size 432x288 with 1 Axes>"
      ]
     },
     "metadata": {
      "needs_background": "light"
     },
     "output_type": "display_data"
    }
   ],
   "source": [
    "plt.plot(dataset1.parameters, [v[0] for v in dataset1.m_q_phys], 'o--', markersize=4, label='s=1')\n",
    "plt.grid()\n",
    "plt.legend()\n",
    "plt.title(\"add errors\")\n",
    "plt.show()"
   ]
  },
  {
   "cell_type": "markdown",
   "id": "752983eb-d6ed-4cd1-8434-076f9e7a7f86",
   "metadata": {},
   "source": [
    "# Renormalised boson mass"
   ]
  },
  {
   "cell_type": "code",
   "execution_count": 12,
   "id": "1f0ad3bd-76e3-4e32-b6b4-c31a357c1e08",
   "metadata": {},
   "outputs": [
    {
     "data": {
      "image/png": "[encoded data removed]",
      "text/plain": [
       "<Figure size 432x288 with 1 Axes>"
      ]
     },
     "metadata": {
      "needs_background": "light"
     },
     "output_type": "display_data"
    }
   ],
   "source": [
    "plt.errorbar(dataset1.parameters, [dataset1.Nx*v[0] for v in dataset1.m_phi_r], [dataset1.Nx*v[1] for v in dataset1.m_phi_r], fmt='o--', markersize=4, label='s=1')\n",
    "plt.grid()\n",
    "plt.legend()\n",
    "plt.show()"
   ]
  },
  {
   "cell_type": "code",
   "execution_count": null,
   "id": "spatial-graham",
   "metadata": {},
   "outputs": [],
   "source": []
  }
 ],
 "metadata": {
  "kernelspec": {
   "display_name": "Python 3 (ipykernel)",
   "language": "python",
   "name": "python3"
  },
  "language_info": {
   "codemirror_mode": {
    "name": "ipython",
    "version": 3
   },
   "file_extension": ".py",
   "mimetype": "text/x-python",
   "name": "python",
   "nbconvert_exporter": "python",
   "pygments_lexer": "ipython3",
   "version": "3.10.12"
  }
 },
 "nbformat": 4,
 "nbformat_minor": 5
}
