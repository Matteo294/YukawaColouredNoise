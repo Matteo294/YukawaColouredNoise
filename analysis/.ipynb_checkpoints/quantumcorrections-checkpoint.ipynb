{
 "cells": [
  {
   "cell_type": "code",
   "execution_count": 1,
   "id": "0e7e2f55-8099-4b61-8d6c-83c3001cb7f7",
   "metadata": {},
   "outputs": [],
   "source": [
    "import numpy as np\n",
    "from matplotlib import pyplot as plt \n",
    "from pandas import read_csv\n",
    "import sys\n",
    "import os\n",
    "from matplotlib import rcParams\n",
    "import toml\n",
    "\n",
    "%load_ext autoreload\n",
    "%autoreload 2"
   ]
  },
  {
   "cell_type": "code",
   "execution_count": 2,
   "id": "44539e94-1043-4dcf-8f69-63525d7fce76",
   "metadata": {},
   "outputs": [],
   "source": [
    "import ctypes\n",
    "\n",
    "lib_path = \"/home/matteo/Downloads/ac/build/\"\n",
    "\n",
    "class ACreturn(ctypes.Structure):\n",
    "\t_fields_ = [ (\"average\", ctypes.c_double), (\"sigmaF\", ctypes.c_double), (\"sigmaF_error\", ctypes.c_double), (\"ACtime\", ctypes.c_double), (\"ACtimeError\", ctypes.c_double) ]\n",
    "\n",
    "\n",
    "def ComputeStatistics(data):\n",
    "\tft_lib = ctypes.cdll.LoadLibrary(lib_path + \"libac.so\")\n",
    "\n",
    "\targ = (ctypes.c_double * len(data))(*data)\n",
    "\tavg = ft_lib.Wrapper\n",
    "\tavg.restype = ACreturn\n",
    "\n",
    "\treturn avg(arg, len(data))"
   ]
  },
  {
   "cell_type": "code",
   "execution_count": 3,
   "id": "3bfe9b12-fa51-4818-ad1a-66c0dbc6125f",
   "metadata": {},
   "outputs": [],
   "source": [
    "folders = [\"simu/slide_broken/conf\" + str(i) for i in range(35, 46)] \n",
    "Nt = 64\n",
    "Nx = 64"
   ]
  },
  {
   "cell_type": "code",
   "execution_count": 4,
   "id": "fa9069b7-d38d-40c2-8252-e23dbb586753",
   "metadata": {},
   "outputs": [],
   "source": [
    "from correlations import *\n",
    "from read_in_data import *\n",
    "from mass_fit import *\n",
    "from mass_matteo import *"
   ]
  },
  {
   "cell_type": "code",
   "execution_count": 5,
   "id": "78ea6962-fb51-4448-80be-46d14d7ba1a9",
   "metadata": {},
   "outputs": [],
   "source": [
    "def get_chi2xxx(cfgs: np.ndarray, myV):\n",
    "    \"\"\"Return mean and error of suceptibility.\"\"\"\n",
    "    V = np.prod(cfgs.shape[1:])\n",
    "    print(\"dsjfdsomfosdmfodskmfosdkmf\" + str(V))\n",
    "    axis = tuple([i+1 for i in range(len(cfgs.shape)-1)])\n",
    "    mags = cfgs.mean(axis=axis)\n",
    "    #return jackknife(V * (mags**2 - mags.mean()**2))\n",
    "    return jackknife(myV * ((mags - mags.mean())**2))\n",
    "    #return jackknife(V * (mags**2))"
   ]
  },
  {
   "cell_type": "code",
   "execution_count": 6,
   "id": "267674bf-186c-4a04-867e-be7c745db2c7",
   "metadata": {},
   "outputs": [
    {
     "name": "stdout",
     "output_type": "stream",
     "text": [
      "simu/slide_broken/conf35\n",
      "cutFractions: 0.0  mphi2: 0.0\n"
     ]
    },
    {
     "name": "stderr",
     "output_type": "stream",
     "text": [
      "100%|██████████████████████████████████| 29848/29848 [00:00<00:00, 50296.85it/s]\n"
     ]
    },
    {
     "name": "stdout",
     "output_type": "stream",
     "text": [
      "2.1092669455239723\n",
      "2.7387959263454876e-06\n",
      "5.136847877760653e-08\n",
      "1.2260746798736988\n",
      "0.04322361622923995\n"
     ]
    },
    {
     "name": "stderr",
     "output_type": "stream",
     "text": [
      "100%|██████████████████████████████████| 29848/29848 [00:00<00:00, 49680.96it/s]\n"
     ]
    },
    {
     "name": "stdout",
     "output_type": "stream",
     "text": [
      "dsjfdsomfosdmfodskmfosdkmf1.0\n"
     ]
    },
    {
     "name": "stderr",
     "output_type": "stream",
     "text": [
      "100%|██████████████████████████████████| 29848/29848 [00:00<00:00, 49409.08it/s]\n"
     ]
    },
    {
     "name": "stdout",
     "output_type": "stream",
     "text": [
      "\n",
      "simu/slide_broken/conf36\n",
      "cutFractions: 0.1  mphi2: 0.1\n"
     ]
    },
    {
     "name": "stderr",
     "output_type": "stream",
     "text": [
      "100%|██████████████████████████████████| 29849/29849 [00:00<00:00, 49274.27it/s]\n"
     ]
    },
    {
     "name": "stdout",
     "output_type": "stream",
     "text": [
      "2.0971720131327656\n",
      "0.00016241622945925756\n",
      "3.1879643133259e-06\n",
      "1.3126910629771842\n",
      "0.04850174561627151\n"
     ]
    },
    {
     "name": "stderr",
     "output_type": "stream",
     "text": [
      "100%|██████████████████████████████████| 29849/29849 [00:00<00:00, 51346.51it/s]\n"
     ]
    },
    {
     "name": "stdout",
     "output_type": "stream",
     "text": [
      "dsjfdsomfosdmfodskmfosdkmf1.0\n"
     ]
    },
    {
     "name": "stderr",
     "output_type": "stream",
     "text": [
      "100%|██████████████████████████████████| 29849/29849 [00:00<00:00, 49693.58it/s]\n"
     ]
    },
    {
     "name": "stdout",
     "output_type": "stream",
     "text": [
      "\n",
      "simu/slide_broken/conf37\n",
      "cutFractions: 0.2  mphi2: 0.2\n"
     ]
    },
    {
     "name": "stderr",
     "output_type": "stream",
     "text": [
      "100%|██████████████████████████████████| 29846/29846 [00:00<00:00, 51335.90it/s]\n"
     ]
    },
    {
     "name": "stdout",
     "output_type": "stream",
     "text": [
      "2.073213355893583\n",
      "0.00016824786064795235\n",
      "3.443193976093704e-06\n",
      "1.3483885540995681\n",
      "0.052127968493482335\n"
     ]
    },
    {
     "name": "stderr",
     "output_type": "stream",
     "text": [
      "100%|██████████████████████████████████| 29846/29846 [00:00<00:00, 50277.14it/s]\n"
     ]
    },
    {
     "name": "stdout",
     "output_type": "stream",
     "text": [
      "dsjfdsomfosdmfodskmfosdkmf1.0\n"
     ]
    },
    {
     "name": "stderr",
     "output_type": "stream",
     "text": [
      "100%|██████████████████████████████████| 29846/29846 [00:00<00:00, 49205.34it/s]\n",
      "/home/matteo/code/QuarkMesonModel/analysis/correlations.py:180: RuntimeWarning: invalid value encountered in sqrt\n",
      "  ren_mass = np.sqrt( ren_mass2 )\n"
     ]
    },
    {
     "name": "stdout",
     "output_type": "stream",
     "text": [
      "\n",
      "simu/slide_broken/conf38\n",
      "cutFractions: 0.3  mphi2: 0.3\n"
     ]
    },
    {
     "name": "stderr",
     "output_type": "stream",
     "text": [
      "100%|██████████████████████████████████| 29845/29845 [00:00<00:00, 49600.93it/s]\n"
     ]
    },
    {
     "name": "stdout",
     "output_type": "stream",
     "text": [
      "2.045059862623562\n",
      "0.0001751693189894137\n",
      "3.5849017402419907e-06\n",
      "1.4084768988115182\n",
      "0.05430496353047113\n"
     ]
    },
    {
     "name": "stderr",
     "output_type": "stream",
     "text": [
      "100%|██████████████████████████████████| 29845/29845 [00:00<00:00, 46994.02it/s]\n"
     ]
    },
    {
     "name": "stdout",
     "output_type": "stream",
     "text": [
      "dsjfdsomfosdmfodskmfosdkmf1.0\n"
     ]
    },
    {
     "name": "stderr",
     "output_type": "stream",
     "text": [
      "100%|██████████████████████████████████| 29845/29845 [00:00<00:00, 47573.37it/s]\n",
      "/home/matteo/code/QuarkMesonModel/analysis/correlations.py:180: RuntimeWarning: invalid value encountered in sqrt\n",
      "  ren_mass = np.sqrt( ren_mass2 )\n"
     ]
    },
    {
     "name": "stdout",
     "output_type": "stream",
     "text": [
      "\n",
      "simu/slide_broken/conf39\n",
      "cutFractions: 0.4  mphi2: 0.4\n"
     ]
    },
    {
     "name": "stderr",
     "output_type": "stream",
     "text": [
      "100%|██████████████████████████████████| 29848/29848 [00:00<00:00, 50455.49it/s]\n"
     ]
    },
    {
     "name": "stdout",
     "output_type": "stream",
     "text": [
      "2.0177880859689057\n",
      "0.0001816824427693487\n",
      "3.863867513741892e-06\n",
      "1.4724576593784873\n",
      "0.05911580941498405\n"
     ]
    },
    {
     "name": "stderr",
     "output_type": "stream",
     "text": [
      "100%|██████████████████████████████████| 29848/29848 [00:00<00:00, 49504.19it/s]\n"
     ]
    },
    {
     "name": "stdout",
     "output_type": "stream",
     "text": [
      "dsjfdsomfosdmfodskmfosdkmf1.0\n"
     ]
    },
    {
     "name": "stderr",
     "output_type": "stream",
     "text": [
      "100%|██████████████████████████████████| 29848/29848 [00:00<00:00, 49254.71it/s]\n",
      "/home/matteo/code/QuarkMesonModel/analysis/correlations.py:180: RuntimeWarning: invalid value encountered in sqrt\n",
      "  ren_mass = np.sqrt( ren_mass2 )\n"
     ]
    },
    {
     "name": "stdout",
     "output_type": "stream",
     "text": [
      "\n",
      "simu/slide_broken/conf40\n",
      "cutFractions: 0.5  mphi2: 0.5\n"
     ]
    },
    {
     "name": "stderr",
     "output_type": "stream",
     "text": [
      "100%|██████████████████████████████████| 29847/29847 [00:00<00:00, 49240.18it/s]\n"
     ]
    },
    {
     "name": "stdout",
     "output_type": "stream",
     "text": [
      "1.992057743826847\n",
      "0.00018814245172174747\n",
      "4.001320513126918e-06\n",
      "1.5278611269779736\n",
      "0.0611997160567756\n"
     ]
    },
    {
     "name": "stderr",
     "output_type": "stream",
     "text": [
      "100%|██████████████████████████████████| 29847/29847 [00:00<00:00, 49910.85it/s]\n"
     ]
    },
    {
     "name": "stdout",
     "output_type": "stream",
     "text": [
      "dsjfdsomfosdmfodskmfosdkmf1.0\n"
     ]
    },
    {
     "name": "stderr",
     "output_type": "stream",
     "text": [
      "100%|██████████████████████████████████| 29847/29847 [00:00<00:00, 49232.82it/s]\n",
      "/home/matteo/code/QuarkMesonModel/analysis/correlations.py:180: RuntimeWarning: invalid value encountered in sqrt\n",
      "  ren_mass = np.sqrt( ren_mass2 )\n"
     ]
    },
    {
     "name": "stdout",
     "output_type": "stream",
     "text": [
      "\n",
      "simu/slide_broken/conf41\n",
      "cutFractions: 0.6  mphi2: 0.6\n"
     ]
    },
    {
     "name": "stderr",
     "output_type": "stream",
     "text": [
      "100%|██████████████████████████████████| 29850/29850 [00:00<00:00, 49388.26it/s]\n"
     ]
    },
    {
     "name": "stdout",
     "output_type": "stream",
     "text": [
      "1.9661102040200862\n",
      "0.00019270721335353617\n",
      "4.098195648475596e-06\n",
      "1.5563800121400058\n",
      "0.06226463708489196\n"
     ]
    },
    {
     "name": "stderr",
     "output_type": "stream",
     "text": [
      "100%|██████████████████████████████████| 29850/29850 [00:00<00:00, 49820.94it/s]\n"
     ]
    },
    {
     "name": "stdout",
     "output_type": "stream",
     "text": [
      "dsjfdsomfosdmfodskmfosdkmf1.0\n"
     ]
    },
    {
     "name": "stderr",
     "output_type": "stream",
     "text": [
      "100%|██████████████████████████████████| 29850/29850 [00:00<00:00, 49808.24it/s]\n",
      "/home/matteo/code/QuarkMesonModel/analysis/correlations.py:180: RuntimeWarning: invalid value encountered in sqrt\n",
      "  ren_mass = np.sqrt( ren_mass2 )\n"
     ]
    },
    {
     "name": "stdout",
     "output_type": "stream",
     "text": [
      "\n",
      "simu/slide_broken/conf42\n",
      "cutFractions: 0.7  mphi2: 0.7\n"
     ]
    },
    {
     "name": "stderr",
     "output_type": "stream",
     "text": [
      "100%|██████████████████████████████████| 29851/29851 [00:00<00:00, 49075.39it/s]\n"
     ]
    },
    {
     "name": "stdout",
     "output_type": "stream",
     "text": [
      "1.9391141285049087\n",
      "0.00019699653231113442\n",
      "4.189344003536731e-06\n",
      "1.5776150806500828\n",
      "0.06305698071586506\n"
     ]
    },
    {
     "name": "stderr",
     "output_type": "stream",
     "text": [
      "100%|██████████████████████████████████| 29851/29851 [00:00<00:00, 49757.72it/s]\n"
     ]
    },
    {
     "name": "stdout",
     "output_type": "stream",
     "text": [
      "dsjfdsomfosdmfodskmfosdkmf1.0\n"
     ]
    },
    {
     "name": "stderr",
     "output_type": "stream",
     "text": [
      "100%|██████████████████████████████████| 29851/29851 [00:00<00:00, 49358.29it/s]\n",
      "/home/matteo/code/QuarkMesonModel/analysis/correlations.py:180: RuntimeWarning: invalid value encountered in sqrt\n",
      "  ren_mass = np.sqrt( ren_mass2 )\n"
     ]
    },
    {
     "name": "stdout",
     "output_type": "stream",
     "text": [
      "\n",
      "simu/slide_broken/conf43\n",
      "cutFractions: 0.8  mphi2: 0.8\n"
     ]
    },
    {
     "name": "stderr",
     "output_type": "stream",
     "text": [
      "100%|██████████████████████████████████| 29849/29849 [00:00<00:00, 49373.32it/s]\n"
     ]
    },
    {
     "name": "stdout",
     "output_type": "stream",
     "text": [
      "1.9232032034574185\n",
      "0.0001992672811529845\n",
      "4.237775896589277e-06\n",
      "1.5919670177468022\n",
      "0.06359444520550676\n"
     ]
    },
    {
     "name": "stderr",
     "output_type": "stream",
     "text": [
      "100%|██████████████████████████████████| 29849/29849 [00:00<00:00, 49641.01it/s]\n"
     ]
    },
    {
     "name": "stdout",
     "output_type": "stream",
     "text": [
      "dsjfdsomfosdmfodskmfosdkmf1.0\n"
     ]
    },
    {
     "name": "stderr",
     "output_type": "stream",
     "text": [
      "100%|██████████████████████████████████| 29849/29849 [00:00<00:00, 48551.97it/s]\n",
      "/home/matteo/code/QuarkMesonModel/analysis/correlations.py:180: RuntimeWarning: invalid value encountered in sqrt\n",
      "  ren_mass = np.sqrt( ren_mass2 )\n"
     ]
    },
    {
     "name": "stdout",
     "output_type": "stream",
     "text": [
      "\n",
      "simu/slide_broken/conf44\n",
      "cutFractions: 0.9  mphi2: 0.9\n"
     ]
    },
    {
     "name": "stderr",
     "output_type": "stream",
     "text": [
      "100%|██████████████████████████████████| 29848/29848 [00:00<00:00, 51215.00it/s]\n"
     ]
    },
    {
     "name": "stdout",
     "output_type": "stream",
     "text": [
      "1.9169036387697553\n",
      "0.00020005405095299304\n",
      "4.254579235545942e-06\n",
      "1.600120536989028\n",
      "0.0638993378836506\n"
     ]
    },
    {
     "name": "stderr",
     "output_type": "stream",
     "text": [
      "100%|██████████████████████████████████| 29848/29848 [00:00<00:00, 52196.24it/s]\n"
     ]
    },
    {
     "name": "stdout",
     "output_type": "stream",
     "text": [
      "dsjfdsomfosdmfodskmfosdkmf1.0\n"
     ]
    },
    {
     "name": "stderr",
     "output_type": "stream",
     "text": [
      "100%|██████████████████████████████████| 29848/29848 [00:00<00:00, 53283.06it/s]\n",
      "/home/matteo/code/QuarkMesonModel/analysis/correlations.py:180: RuntimeWarning: invalid value encountered in sqrt\n",
      "  ren_mass = np.sqrt( ren_mass2 )\n"
     ]
    },
    {
     "name": "stdout",
     "output_type": "stream",
     "text": [
      "\n",
      "simu/slide_broken/conf45\n",
      "cutFractions: 1.0  mphi2: 1.0\n"
     ]
    },
    {
     "name": "stderr",
     "output_type": "stream",
     "text": [
      "100%|██████████████████████████████████| 29852/29852 [00:00<00:00, 51802.33it/s]\n"
     ]
    },
    {
     "name": "stdout",
     "output_type": "stream",
     "text": [
      "1.915097389454653\n",
      "0.00020359949114530688\n",
      "4.487184975814146e-06\n",
      "1.6411920412301977\n",
      "0.06812445432393222\n"
     ]
    },
    {
     "name": "stderr",
     "output_type": "stream",
     "text": [
      "100%|██████████████████████████████████| 29852/29852 [00:00<00:00, 50860.91it/s]\n"
     ]
    },
    {
     "name": "stdout",
     "output_type": "stream",
     "text": [
      "dsjfdsomfosdmfodskmfosdkmf1.0\n"
     ]
    },
    {
     "name": "stderr",
     "output_type": "stream",
     "text": [
      "100%|██████████████████████████████████| 29852/29852 [00:00<00:00, 50341.48it/s]\n"
     ]
    },
    {
     "name": "stdout",
     "output_type": "stream",
     "text": [
      "\n"
     ]
    },
    {
     "name": "stderr",
     "output_type": "stream",
     "text": [
      "/home/matteo/code/QuarkMesonModel/analysis/correlations.py:180: RuntimeWarning: invalid value encountered in sqrt\n",
      "  ren_mass = np.sqrt( ren_mass2 )\n"
     ]
    }
   ],
   "source": [
    "phi = []\n",
    "cond = []\n",
    "absphi = []\n",
    "chi2 = []\n",
    "mr = []\n",
    "mqphys = []\n",
    "cutoffs = []\n",
    "\n",
    "for f in folders:\n",
    "    print(f)\n",
    "    params = toml.load(\"data/\" + f + \"/input.toml\") # read toml file with parameters\n",
    "\n",
    "    s = str(params['physics']['cutFraction']) # read cutoff\n",
    "    # if cutoff is not already in the list, add it and create the corresponding data arrays\n",
    "    \n",
    "    volume = (Nt, Nx)\n",
    "    \n",
    "    p = float(s) # read yukawa coupling\n",
    "    \n",
    "    print(\"cutFractions:\", s, \" mphi2:\", p)\n",
    "\n",
    "    data = read_csv(\"data/\" + f + \"/traces.csv\") # read file with magnetisation, condensate, ...\n",
    "\n",
    "    # Get bosonic time slices computed in main.cu\n",
    "    S_t = get_time_slices_from_timeslicefile(\"data/\" + f + \"/slice.dat\", field_axis=0, return_all=False)\n",
    "    # Get fermionic time slices computed in main.cu\n",
    "    data_Sq_t = read_csv(\"data/\" + f + \"/data.csv\")\n",
    "    Sq_t = data_Sq_t['corr'].to_numpy(np.dtype('f8')).reshape((-1, Nt))\n",
    "\n",
    "    # magnetisation\n",
    "    blob = ComputeStatistics(data['sigma'])\n",
    "    val, err = get_abs_mag(data['sigma'].to_numpy()) # !!!!!!!!!!!!!!!!!!!!!!!!! ABSSSSSSSSSSSSSSSSS\n",
    "    phi.append((blob.average, blob.sigmaF, p))\n",
    "    \n",
    "    avgxxx = blob.average\n",
    "    print(blob.average)\n",
    "    print(blob.sigmaF)\n",
    "    print(blob.sigmaF_error)\n",
    "    print(blob.ACtime)\n",
    "    print(blob.ACtimeError)\n",
    "    \n",
    "    # condensate\n",
    "    val, err = get_mag(data['tr'].to_numpy())\n",
    "    blob = ComputeStatistics(data['tr'])\n",
    "    cond.append((blob.average, blob.sigmaF, p))\n",
    "    # susceptibility\n",
    "    val, err = get_chi2xxx(data['sigma'].to_numpy(), Nx*Nt)\n",
    "    blob = ComputeStatistics((data['sigma'] - avgxxx)**2)\n",
    "    chi2.append((blob.average, blob.sigmaF, p))\n",
    "    # renormalised bosonic mass\n",
    "    val, err = get_ren_mass_right_via_timeslices(S_t,volume)\n",
    "    mr.append((val, err, p))\n",
    "    # physical quark mass\n",
    "    val, err = get_phys_quark_mass_via_timeslices(Sq_t,volume)\n",
    "    mqphys.append((val, err, p))\n",
    "    \n",
    "    print()\n",
    "\n",
    "\n",
    "phi = sorted(phi, key=lambda x: x[2])\n",
    "cond = sorted(cond, key=lambda x: x[2])\n",
    "chi2 = sorted(chi2, key=lambda x: x[2])\n",
    "mr = sorted(mr, key=lambda x: x[2])\n",
    "mqphys = sorted(mqphys, key=lambda x: x[2])"
   ]
  },
  {
   "cell_type": "code",
   "execution_count": 20,
   "id": "13c8f229-42fa-416a-bcfa-ccdeec488a33",
   "metadata": {},
   "outputs": [
    {
     "data": {
      "image/png": "[encoded data removed]",
      "text/plain": [
       "<Figure size 640x480 with 1 Axes>"
      ]
     },
     "metadata": {},
     "output_type": "display_data"
    }
   ],
   "source": [
    "plt.errorbar([v[2] for v in phi], [v[0] for v in phi], [v[1] for v in phi], fmt='o--')\n",
    "\n",
    "plt.xlabel(r'$s$', fontsize=16)\n",
    "plt.ylabel(r'$\\left\\langle \\phi \\right\\rangle$', fontsize=16)\n",
    "plt.tight_layout()\n",
    "plt.grid()\n",
    "plt.savefig(\"phi.pdf\")\n",
    "plt.show()"
   ]
  },
  {
   "cell_type": "code",
   "execution_count": 21,
   "id": "bc985aad-7cf4-4e44-b3bc-f72f3e82ef78",
   "metadata": {},
   "outputs": [
    {
     "data": {
      "image/png": "[encoded data removed]",
      "text/plain": [
       "<Figure size 640x480 with 1 Axes>"
      ]
     },
     "metadata": {},
     "output_type": "display_data"
    }
   ],
   "source": [
    "plt.errorbar([v[2] for v in cond], [v[0] for v in cond], [v[1] for v in cond], fmt='o--')\n",
    "\n",
    "plt.xlabel(r'$s$', fontsize=16)\n",
    "plt.ylabel(r'$\\left\\langle \\bar \\psi \\psi \\right\\rangle$', fontsize=16)\n",
    "plt.tight_layout()\n",
    "plt.grid()\n",
    "plt.savefig(\"cond.pdf\")\n",
    "plt.show()"
   ]
  },
  {
   "cell_type": "markdown",
   "id": "0d79e5ab-0937-4974-8178-361cf514209a",
   "metadata": {},
   "source": [
    "# Test equations of motion"
   ]
  },
  {
   "cell_type": "code",
   "execution_count": 22,
   "id": "f464c7b9-3841-41c1-9bad-208b7eed3427",
   "metadata": {},
   "outputs": [
    {
     "data": {
      "image/png": "[encoded data removed]",
      "text/plain": [
       "<Figure size 640x480 with 1 Axes>"
      ]
     },
     "metadata": {},
     "output_type": "display_data"
    }
   ],
   "source": [
    "plt.errorbar([v[2] for v in phi], [v[0]/w[0] for v, w in zip(phi, cond)], [v[1] for v, w in zip(phi, cond)], fmt='o--')\n",
    "plt.show()"
   ]
  },
  {
   "cell_type": "code",
   "execution_count": 23,
   "id": "835f51b6-5bf0-4a13-86c7-827c7bfdc9df",
   "metadata": {},
   "outputs": [
    {
     "data": {
      "image/png": "[encoded data removed]",
      "text/plain": [
       "<Figure size 640x480 with 1 Axes>"
      ]
     },
     "metadata": {},
     "output_type": "display_data"
    }
   ],
   "source": [
    "plt.errorbar([v[2] for v in mqphys], [v[0] for v in mqphys  if v[0]], [v[1] for v in mqphys], fmt='o--')\n",
    "\n",
    "plt.xlabel(r'$s$', fontsize=16)\n",
    "plt.ylabel(r'$m^q_{phys}$', fontsize=16)\n",
    "plt.tight_layout()\n",
    "plt.grid()\n",
    "plt.savefig(\"mqphys.pdf\")\n",
    "plt.show()"
   ]
  },
  {
   "cell_type": "code",
   "execution_count": 26,
   "id": "c321589d-6b55-426f-89fc-2bb9e70ee6ed",
   "metadata": {},
   "outputs": [
    {
     "name": "stdout",
     "output_type": "stream",
     "text": [
      "True\n",
      "True\n",
      "False\n",
      "False\n",
      "False\n",
      "False\n",
      "False\n",
      "False\n",
      "False\n",
      "False\n",
      "False\n"
     ]
    },
    {
     "data": {
      "image/png": "[encoded data removed]",
      "text/plain": [
       "<Figure size 640x480 with 1 Axes>"
      ]
     },
     "metadata": {},
     "output_type": "display_data"
    }
   ],
   "source": [
    "for v in mr:\n",
    "    print(np.isfinite(v[0]))\n",
    "plt.errorbar([v[2] for v in mr], [v[0] for v in mr], [v[1] for v in mr], fmt='o--')\n",
    "\n",
    "plt.xlabel(r'$s$', fontsize=16)\n",
    "plt.ylabel(r'$m_r^\\phi$', fontsize=16)\n",
    "plt.tight_layout()\n",
    "plt.grid()\n",
    "plt.savefig(\"mphir.pdf\")\n",
    "plt.show()"
   ]
  },
  {
   "cell_type": "code",
   "execution_count": null,
   "id": "b99f914e-3c8a-4779-b371-997cddc4158d",
   "metadata": {},
   "outputs": [],
   "source": []
  }
 ],
 "metadata": {
  "kernelspec": {
   "display_name": "Python 3",
   "language": "python",
   "name": "python3"
  },
  "language_info": {
   "codemirror_mode": {
    "name": "ipython",
    "version": 3
   },
   "file_extension": ".py",
   "mimetype": "text/x-python",
   "name": "python",
   "nbconvert_exporter": "python",
   "pygments_lexer": "ipython3",
   "version": "3.9.2"
  }
 },
 "nbformat": 4,
 "nbformat_minor": 5
}
