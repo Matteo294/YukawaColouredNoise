{
 "cells": [
  {
   "cell_type": "markdown",
   "id": "fff0cce0-a08b-4c36-9c61-bc88dbe25cd0",
   "metadata": {},
   "source": [
    "Import useful libraries"
   ]
  },
  {
   "cell_type": "code",
   "execution_count": 1,
   "id": "resistant-television",
   "metadata": {},
   "outputs": [],
   "source": [
    "import numpy as np\n",
    "from matplotlib import pyplot as plt \n",
    "from pandas import read_csv\n",
    "import sys\n",
    "import os\n",
    "from matplotlib import rcParams\n",
    "import toml\n",
    "\n",
    "%load_ext autoreload\n",
    "%autoreload 2"
   ]
  },
  {
   "cell_type": "code",
   "execution_count": 2,
   "id": "c8d0aa50-6f27-42fb-aaf6-a777ef187215",
   "metadata": {},
   "outputs": [],
   "source": [
    "import ctypes\n",
    "\n",
    "lib_path = \"/home/matteo/Downloads/ac/build/\"\n",
    "\n",
    "class ACreturn(ctypes.Structure):\n",
    "\t_fields_ = [ (\"average\", ctypes.c_double), (\"sigmaF\", ctypes.c_double), (\"sigmaF_error\", ctypes.c_double), (\"ACtime\", ctypes.c_double), (\"ACtimeError\", ctypes.c_double) ]\n",
    "\n",
    "\n",
    "def ComputeStatistics(data):\n",
    "\tft_lib = ctypes.cdll.LoadLibrary(lib_path + \"libac.so\")\n",
    "\n",
    "\targ = (ctypes.c_double * len(data))(*data)\n",
    "\tavg = ft_lib.Wrapper\n",
    "\tavg.restype = ACreturn\n",
    "\n",
    "\treturn avg(arg, len(data))"
   ]
  },
  {
   "cell_type": "markdown",
   "id": "81e02921-372c-4591-af17-c3908eefe85f",
   "metadata": {},
   "source": [
    "# Block spin analysis"
   ]
  },
  {
   "cell_type": "markdown",
   "id": "e535e138-e0fd-4aec-a422-e2485eaaa68b",
   "metadata": {},
   "source": [
    "Specify folders from which to get configurations and set the values of the yukawa couling used in the simulations"
   ]
  },
  {
   "cell_type": "code",
   "execution_count": 14,
   "id": "af1dfd60-5533-43ea-ba5c-239eae2bb6ed",
   "metadata": {},
   "outputs": [],
   "source": [
    "################################################################################\n",
    "# dataset 1\n",
    "'''folders = [\"dataset1/s_0_25/conf\" + str(i+1) for i in range(10)] \n",
    "folders += [\"dataset1/s_0_5/conf\" + str(i+1) for i in range(10)] \n",
    "folders += [\"dataset1/s_1_0/conf\" + str(i+1) for i in range(10)]'''\n",
    "\n",
    "# dataset 2\n",
    "'''folders = [\"dataset2/s_0_5/conf\" + str(i+1) for i in range(10)] \n",
    "folders += [\"dataset2/s_1_0/conf\" + str(i+1) for i in range(10)]'''\n",
    "\n",
    "# Almost phase transition, plot around mphi2 = 0\n",
    "'''folders = [\"phase_trans_1/conf\" + str(i+1) for i in range(16)] \n",
    "folders  += [\"phase_trans_2/conf\" + str(i+1) for i in range(16)]'''\n",
    "\n",
    "# dataset 6\n",
    "#folders = [\"yukawa_scan/conf\" + str(i+1) for i in range(17)]\n",
    "\n",
    "# yukawa scan\n",
    "folders = [\"simu/yukawa_scan_1/conf\" + str(i) for i in range(1, 18)]\n",
    "folders += [\"simu/yukawa_scan_2/conf\" + str(i) for i in range(1, 18)]\n",
    "folders += [\"simu/yukawa_scan_4/conf\" + str(i) for i in range(18, 35)]\n",
    "\n",
    "Nt0 = 16\n",
    "Nx0 = 16\n",
    "\n",
    "colors = ['blue', 'orange', 'green', 'red']\n",
    "################################################################################"
   ]
  },
  {
   "cell_type": "markdown",
   "id": "2be7fd6d-5024-4b4a-a273-608c72ff1871",
   "metadata": {},
   "source": [
    "Import functions from Jan Philipp's code"
   ]
  },
  {
   "cell_type": "code",
   "execution_count": 15,
   "id": "a3c0427b-86be-4bfd-bcad-a67fd931b1be",
   "metadata": {},
   "outputs": [],
   "source": [
    "from correlations import *\n",
    "from read_in_data import *\n",
    "from mass_fit import *\n",
    "from mass_matteo import *"
   ]
  },
  {
   "cell_type": "code",
   "execution_count": 16,
   "id": "5ebd6a83-6e82-4d43-b67c-b219222b7bb5",
   "metadata": {},
   "outputs": [],
   "source": [
    "def get_chi2xxx(cfgs: np.ndarray, myV):\n",
    "    \"\"\"Return mean and error of suceptibility.\"\"\"\n",
    "    V = np.prod(cfgs.shape[1:])\n",
    "    print(\"dsjfdsomfosdmfodskmfosdkmf\" + str(V))\n",
    "    axis = tuple([i+1 for i in range(len(cfgs.shape)-1)])\n",
    "    mags = cfgs.mean(axis=axis)\n",
    "    #return jackknife(V * (mags**2 - mags.mean()**2))\n",
    "    return jackknife(myV * ((mags - mags.mean())**2))\n",
    "    #return jackknife(V * (mags**2))"
   ]
  },
  {
   "cell_type": "markdown",
   "id": "cce1f844-fc87-4d59-914e-7895e75227b0",
   "metadata": {},
   "source": [
    "Load data from specified folders"
   ]
  },
  {
   "cell_type": "code",
   "execution_count": 17,
   "id": "2a407890-b29c-4b62-b852-650adcf1c611",
   "metadata": {},
   "outputs": [
    {
     "name": "stdout",
     "output_type": "stream",
     "text": [
      "simu/yukawa_scan_1/conf1\n",
      "cutFractions: 1.0  g: -3.0\n"
     ]
    },
    {
     "name": "stderr",
     "output_type": "stream",
     "text": [
      "100%|██████████████████████████████████| 29850/29850 [00:00<00:00, 49622.69it/s]\n"
     ]
    },
    {
     "name": "stdout",
     "output_type": "stream",
     "text": [
      "-3.212260660971512\n",
      "0.00046594187231732925\n",
      "7.862651662326093e-06\n",
      "0.9454617158474623\n",
      "0.03008193295466273\n"
     ]
    },
    {
     "name": "stderr",
     "output_type": "stream",
     "text": [
      "100%|██████████████████████████████████| 29850/29850 [00:00<00:00, 49990.71it/s]\n"
     ]
    },
    {
     "name": "stdout",
     "output_type": "stream",
     "text": [
      "dsjfdsomfosdmfodskmfosdkmf1.0\n"
     ]
    },
    {
     "name": "stderr",
     "output_type": "stream",
     "text": [
      "100%|██████████████████████████████████| 29850/29850 [00:00<00:00, 50254.82it/s]\n"
     ]
    },
    {
     "name": "stdout",
     "output_type": "stream",
     "text": [
      "1.0 -3.0 0.003426939017844522 3.1037645048045266e-05\n",
      "\n",
      "simu/yukawa_scan_1/conf2\n",
      "cutFractions: 1.0  g: -2.0\n"
     ]
    },
    {
     "name": "stderr",
     "output_type": "stream",
     "text": [
      "100%|██████████████████████████████████| 29847/29847 [00:00<00:00, 50535.70it/s]\n"
     ]
    },
    {
     "name": "stdout",
     "output_type": "stream",
     "text": [
      "-3.170428180721693\n",
      "0.0004904887171450476\n",
      "8.277289436807231e-06\n",
      "0.9913214617023856\n",
      "0.03144676080593327\n"
     ]
    },
    {
     "name": "stderr",
     "output_type": "stream",
     "text": [
      "100%|██████████████████████████████████| 29847/29847 [00:00<00:00, 50191.62it/s]\n"
     ]
    },
    {
     "name": "stdout",
     "output_type": "stream",
     "text": [
      "dsjfdsomfosdmfodskmfosdkmf1.0\n"
     ]
    },
    {
     "name": "stderr",
     "output_type": "stream",
     "text": [
      "100%|██████████████████████████████████| 29847/29847 [00:00<00:00, 49142.29it/s]\n"
     ]
    },
    {
     "name": "stdout",
     "output_type": "stream",
     "text": [
      "1.0 -2.0 0.0036214741639834574 3.319395151732044e-05\n",
      "\n",
      "simu/yukawa_scan_1/conf3\n",
      "cutFractions: 1.0  g: -1.0\n"
     ]
    },
    {
     "name": "stderr",
     "output_type": "stream",
     "text": [
      "100%|██████████████████████████████████| 29847/29847 [00:00<00:00, 52166.50it/s]\n"
     ]
    },
    {
     "name": "stdout",
     "output_type": "stream",
     "text": [
      "-3.069026796998006\n",
      "0.0005523291116917468\n",
      "1.0359582205837911e-05\n",
      "1.131221037158942\n",
      "0.04008377561269732\n"
     ]
    },
    {
     "name": "stderr",
     "output_type": "stream",
     "text": [
      "100%|██████████████████████████████████| 29847/29847 [00:00<00:00, 52986.88it/s]\n"
     ]
    },
    {
     "name": "stdout",
     "output_type": "stream",
     "text": [
      "dsjfdsomfosdmfodskmfosdkmf1.0\n"
     ]
    },
    {
     "name": "stderr",
     "output_type": "stream",
     "text": [
      "100%|██████████████████████████████████| 29847/29847 [00:00<00:00, 50968.85it/s]\n"
     ]
    },
    {
     "name": "stdout",
     "output_type": "stream",
     "text": [
      "1.0 -1.0 0.004024261438723903 3.811892836278366e-05\n",
      "\n",
      "simu/yukawa_scan_1/conf4\n",
      "cutFractions: 1.0  g: -0.5\n"
     ]
    },
    {
     "name": "stderr",
     "output_type": "stream",
     "text": [
      "100%|██████████████████████████████████| 29846/29846 [00:00<00:00, 52221.98it/s]\n"
     ]
    },
    {
     "name": "stdout",
     "output_type": "stream",
     "text": [
      "-2.934775555853367\n",
      "0.0006429656979520229\n",
      "1.262099680803076e-05\n",
      "1.3094996292712122\n",
      "0.04839383759586433\n"
     ]
    },
    {
     "name": "stderr",
     "output_type": "stream",
     "text": [
      "100%|██████████████████████████████████| 29846/29846 [00:00<00:00, 51500.44it/s]\n"
     ]
    },
    {
     "name": "stdout",
     "output_type": "stream",
     "text": [
      "dsjfdsomfosdmfodskmfosdkmf1.0\n"
     ]
    },
    {
     "name": "stderr",
     "output_type": "stream",
     "text": [
      "100%|██████████████████████████████████| 29846/29846 [00:00<00:00, 53436.85it/s]\n"
     ]
    },
    {
     "name": "stdout",
     "output_type": "stream",
     "text": [
      "1.0 -0.5 0.004710730786119731 4.6824309640952504e-05\n",
      "\n",
      "simu/yukawa_scan_1/conf5\n",
      "cutFractions: 1.0  g: -0.2\n"
     ]
    },
    {
     "name": "stderr",
     "output_type": "stream",
     "text": [
      "100%|██████████████████████████████████| 29849/29849 [00:00<00:00, 52711.46it/s]\n"
     ]
    },
    {
     "name": "stdout",
     "output_type": "stream",
     "text": [
      "-2.7508261415792754\n",
      "0.0007825787609707783\n",
      "1.664294003127665e-05\n",
      "1.562061481750232\n",
      "0.06247811167554896\n"
     ]
    },
    {
     "name": "stderr",
     "output_type": "stream",
     "text": [
      "100%|██████████████████████████████████| 29849/29849 [00:00<00:00, 50369.99it/s]\n"
     ]
    },
    {
     "name": "stdout",
     "output_type": "stream",
     "text": [
      "dsjfdsomfosdmfodskmfosdkmf1.0\n"
     ]
    },
    {
     "name": "stderr",
     "output_type": "stream",
     "text": [
      "100%|██████████████████████████████████| 29849/29849 [00:00<00:00, 51022.02it/s]\n"
     ]
    },
    {
     "name": "stdout",
     "output_type": "stream",
     "text": [
      "1.0 -0.2 0.005850761091719167 6.276390742392284e-05\n",
      "\n",
      "simu/yukawa_scan_1/conf6\n",
      "cutFractions: 1.0  g: -0.1\n"
     ]
    },
    {
     "name": "stderr",
     "output_type": "stream",
     "text": [
      "100%|██████████████████████████████████| 29844/29844 [00:00<00:00, 53901.11it/s]\n"
     ]
    },
    {
     "name": "stdout",
     "output_type": "stream",
     "text": [
      "2.3225072309341774\n",
      "0.0014037507262722726\n",
      "3.939085517520836e-05\n",
      "2.8562943858392082\n",
      "0.15024439349654561\n"
     ]
    },
    {
     "name": "stderr",
     "output_type": "stream",
     "text": [
      "100%|██████████████████████████████████| 29844/29844 [00:00<00:00, 52734.23it/s]\n"
     ]
    },
    {
     "name": "stdout",
     "output_type": "stream",
     "text": [
      "dsjfdsomfosdmfodskmfosdkmf1.0\n"
     ]
    },
    {
     "name": "stderr",
     "output_type": "stream",
     "text": [
      "100%|██████████████████████████████████| 29844/29844 [00:00<00:00, 52824.91it/s]\n"
     ]
    },
    {
     "name": "stdout",
     "output_type": "stream",
     "text": [
      "1.0 -0.1 0.010292504122944886 0.00014349574812978988\n",
      "\n",
      "simu/yukawa_scan_1/conf7\n",
      "cutFractions: 1.0  g: -0.05\n"
     ]
    },
    {
     "name": "stderr",
     "output_type": "stream",
     "text": [
      "100%|██████████████████████████████████| 29848/29848 [00:00<00:00, 53382.53it/s]\n"
     ]
    },
    {
     "name": "stdout",
     "output_type": "stream",
     "text": [
      "2.4081195366523724\n",
      "0.001205866192787556\n",
      "3.160228112536961e-05\n",
      "2.425375314028958\n",
      "0.11936746602313106\n"
     ]
    },
    {
     "name": "stderr",
     "output_type": "stream",
     "text": [
      "100%|██████████████████████████████████| 29848/29848 [00:00<00:00, 53896.94it/s]\n"
     ]
    },
    {
     "name": "stdout",
     "output_type": "stream",
     "text": [
      "dsjfdsomfosdmfodskmfosdkmf1.0\n"
     ]
    },
    {
     "name": "stderr",
     "output_type": "stream",
     "text": [
      "100%|██████████████████████████████████| 29848/29848 [00:00<00:00, 53241.91it/s]\n"
     ]
    },
    {
     "name": "stdout",
     "output_type": "stream",
     "text": [
      "1.0 -0.05 0.008946105972383163 0.00011599440884141206\n",
      "\n",
      "simu/yukawa_scan_1/conf8\n",
      "cutFractions: 1.0  g: -0.01\n"
     ]
    },
    {
     "name": "stderr",
     "output_type": "stream",
     "text": [
      "100%|██████████████████████████████████| 29846/29846 [00:00<00:00, 52773.22it/s]\n"
     ]
    },
    {
     "name": "stdout",
     "output_type": "stream",
     "text": [
      "2.478938360584325\n",
      "0.0010908132243541032\n",
      "2.7157712804438898e-05\n",
      "2.187469574882185\n",
      "0.10227974036380319\n"
     ]
    },
    {
     "name": "stderr",
     "output_type": "stream",
     "text": [
      "100%|██████████████████████████████████| 29846/29846 [00:00<00:00, 52483.91it/s]\n"
     ]
    },
    {
     "name": "stdout",
     "output_type": "stream",
     "text": [
      "dsjfdsomfosdmfodskmfosdkmf1.0\n"
     ]
    },
    {
     "name": "stderr",
     "output_type": "stream",
     "text": [
      "100%|██████████████████████████████████| 29846/29846 [00:00<00:00, 52070.52it/s]\n"
     ]
    },
    {
     "name": "stdout",
     "output_type": "stream",
     "text": [
      "1.0 -0.01 0.008116173460024202 9.904600412553077e-05\n",
      "\n",
      "simu/yukawa_scan_1/conf9\n",
      "cutFractions: 1.0  g: 1e-05\n"
     ]
    },
    {
     "name": "stderr",
     "output_type": "stream",
     "text": [
      "100%|██████████████████████████████████| 29848/29848 [00:00<00:00, 52344.82it/s]\n"
     ]
    },
    {
     "name": "stdout",
     "output_type": "stream",
     "text": [
      "2.495810364513537\n",
      "0.001071591949058633\n",
      "2.667827151686435e-05\n",
      "2.169214462594096\n",
      "0.10147952055437136\n"
     ]
    },
    {
     "name": "stderr",
     "output_type": "stream",
     "text": [
      "100%|██████████████████████████████████| 29848/29848 [00:00<00:00, 53882.83it/s]\n"
     ]
    },
    {
     "name": "stdout",
     "output_type": "stream",
     "text": [
      "dsjfdsomfosdmfodskmfosdkmf1.0\n"
     ]
    },
    {
     "name": "stderr",
     "output_type": "stream",
     "text": [
      "100%|██████████████████████████████████| 29848/29848 [00:00<00:00, 51961.92it/s]\n"
     ]
    },
    {
     "name": "stdout",
     "output_type": "stream",
     "text": [
      "1.0 1e-05 0.00789911764023161 9.63628989401618e-05\n",
      "\n",
      "simu/yukawa_scan_1/conf10\n",
      "cutFractions: 1.0  g: 0.01\n"
     ]
    },
    {
     "name": "stderr",
     "output_type": "stream",
     "text": [
      "100%|██████████████████████████████████| 29849/29849 [00:00<00:00, 51723.32it/s]\n"
     ]
    },
    {
     "name": "stdout",
     "output_type": "stream",
     "text": [
      "2.512163290562501\n",
      "0.0010364876773690658\n",
      "2.5096795655616244e-05\n",
      "2.075724503194867\n",
      "0.09437070545074086\n"
     ]
    },
    {
     "name": "stderr",
     "output_type": "stream",
     "text": [
      "100%|██████████████████████████████████| 29849/29849 [00:00<00:00, 49214.85it/s]\n"
     ]
    },
    {
     "name": "stdout",
     "output_type": "stream",
     "text": [
      "dsjfdsomfosdmfodskmfosdkmf1.0\n"
     ]
    },
    {
     "name": "stderr",
     "output_type": "stream",
     "text": [
      "100%|██████████████████████████████████| 29849/29849 [00:00<00:00, 49898.96it/s]\n"
     ]
    },
    {
     "name": "stdout",
     "output_type": "stream",
     "text": [
      "1.0 0.01 0.007723213290642965 9.41005709152789e-05\n",
      "\n",
      "simu/yukawa_scan_1/conf11\n",
      "cutFractions: 1.0  g: 0.05\n"
     ]
    },
    {
     "name": "stderr",
     "output_type": "stream",
     "text": [
      "100%|██████████████████████████████████| 29846/29846 [00:00<00:00, 52280.15it/s]\n"
     ]
    },
    {
     "name": "stdout",
     "output_type": "stream",
     "text": [
      "2.574178447028083\n",
      "0.000962884211664208\n",
      "2.263982004289037e-05\n",
      "1.920089326582608\n",
      "0.0848761737947167\n"
     ]
    },
    {
     "name": "stderr",
     "output_type": "stream",
     "text": [
      "100%|██████████████████████████████████| 29846/29846 [00:00<00:00, 51990.85it/s]\n"
     ]
    },
    {
     "name": "stdout",
     "output_type": "stream",
     "text": [
      "dsjfdsomfosdmfodskmfosdkmf1.0\n"
     ]
    },
    {
     "name": "stderr",
     "output_type": "stream",
     "text": [
      "100%|██████████████████████████████████| 29846/29846 [00:00<00:00, 51234.18it/s]\n"
     ]
    },
    {
     "name": "stdout",
     "output_type": "stream",
     "text": [
      "1.0 0.05 0.007204884379686398 8.414150951157367e-05\n",
      "\n",
      "simu/yukawa_scan_1/conf12\n",
      "cutFractions: 1.0  g: 0.1\n"
     ]
    },
    {
     "name": "stderr",
     "output_type": "stream",
     "text": [
      "100%|██████████████████████████████████| 29845/29845 [00:00<00:00, 50270.31it/s]\n"
     ]
    },
    {
     "name": "stdout",
     "output_type": "stream",
     "text": [
      "2.6413337838833812\n",
      "0.0009034098790310648\n",
      "2.0588034761243797e-05\n",
      "1.8173557044693007\n",
      "0.07782500567023794\n"
     ]
    },
    {
     "name": "stderr",
     "output_type": "stream",
     "text": [
      "100%|██████████████████████████████████| 29845/29845 [00:00<00:00, 49590.91it/s]\n"
     ]
    },
    {
     "name": "stdout",
     "output_type": "stream",
     "text": [
      "dsjfdsomfosdmfodskmfosdkmf1.0\n"
     ]
    },
    {
     "name": "stderr",
     "output_type": "stream",
     "text": [
      "100%|██████████████████████████████████| 29845/29845 [00:00<00:00, 52248.87it/s]\n"
     ]
    },
    {
     "name": "stdout",
     "output_type": "stream",
     "text": [
      "1.0 0.1 0.006700673863145788 7.61311161969546e-05\n",
      "\n",
      "simu/yukawa_scan_1/conf13\n",
      "cutFractions: 1.0  g: 0.2\n"
     ]
    },
    {
     "name": "stderr",
     "output_type": "stream",
     "text": [
      "100%|██████████████████████████████████| 29847/29847 [00:00<00:00, 53448.27it/s]\n"
     ]
    },
    {
     "name": "stdout",
     "output_type": "stream",
     "text": [
      "2.746652883371869\n",
      "0.0007955385555605025\n",
      "1.691912012529413e-05\n",
      "1.6015365569156539\n",
      "0.06395315134451904\n"
     ]
    },
    {
     "name": "stderr",
     "output_type": "stream",
     "text": [
      "100%|██████████████████████████████████| 29847/29847 [00:00<00:00, 51686.14it/s]\n"
     ]
    },
    {
     "name": "stdout",
     "output_type": "stream",
     "text": [
      "dsjfdsomfosdmfodskmfosdkmf1.0\n"
     ]
    },
    {
     "name": "stderr",
     "output_type": "stream",
     "text": [
      "100%|██████████████████████████████████| 29847/29847 [00:00<00:00, 48425.53it/s]\n"
     ]
    },
    {
     "name": "stdout",
     "output_type": "stream",
     "text": [
      "1.0 0.2 0.005896709476371399 6.427398723165698e-05\n",
      "\n",
      "simu/yukawa_scan_1/conf14\n",
      "cutFractions: 1.0  g: 0.5\n"
     ]
    },
    {
     "name": "stderr",
     "output_type": "stream",
     "text": [
      "100%|██████████████████████████████████| 29845/29845 [00:00<00:00, 50776.01it/s]\n"
     ]
    },
    {
     "name": "stdout",
     "output_type": "stream",
     "text": [
      "2.9311245736304286\n",
      "0.0006389584702943422\n",
      "1.2542547668586708e-05\n",
      "1.2837363072318198\n",
      "0.047502457202813694\n"
     ]
    },
    {
     "name": "stderr",
     "output_type": "stream",
     "text": [
      "100%|██████████████████████████████████| 29845/29845 [00:00<00:00, 50782.93it/s]\n"
     ]
    },
    {
     "name": "stdout",
     "output_type": "stream",
     "text": [
      "dsjfdsomfosdmfodskmfosdkmf1.0\n"
     ]
    },
    {
     "name": "stderr",
     "output_type": "stream",
     "text": [
      "100%|██████████████████████████████████| 29845/29845 [00:00<00:00, 51432.32it/s]\n"
     ]
    },
    {
     "name": "stdout",
     "output_type": "stream",
     "text": [
      "1.0 0.5 0.004745409472337048 4.675077423244457e-05\n",
      "\n",
      "simu/yukawa_scan_1/conf15\n",
      "cutFractions: 1.0  g: 1.0\n"
     ]
    },
    {
     "name": "stderr",
     "output_type": "stream",
     "text": [
      "100%|██████████████████████████████████| 29846/29846 [00:00<00:00, 50471.25it/s]\n"
     ]
    },
    {
     "name": "stdout",
     "output_type": "stream",
     "text": [
      "3.066641334182141\n",
      "0.0005616182383425135\n",
      "1.0533987171072955e-05\n",
      "1.1407711967218055\n",
      "0.04040224591920982\n"
     ]
    },
    {
     "name": "stderr",
     "output_type": "stream",
     "text": [
      "100%|██████████████████████████████████| 29846/29846 [00:00<00:00, 50915.32it/s]\n"
     ]
    },
    {
     "name": "stdout",
     "output_type": "stream",
     "text": [
      "dsjfdsomfosdmfodskmfosdkmf1.0\n"
     ]
    },
    {
     "name": "stderr",
     "output_type": "stream",
     "text": [
      "100%|██████████████████████████████████| 29846/29846 [00:00<00:00, 51155.76it/s]\n"
     ]
    },
    {
     "name": "stdout",
     "output_type": "stream",
     "text": [
      "1.0 1.0 0.00412578716590074 3.963069319160338e-05\n",
      "\n",
      "simu/yukawa_scan_1/conf16\n",
      "cutFractions: 1.0  g: 2.0\n"
     ]
    },
    {
     "name": "stderr",
     "output_type": "stream",
     "text": [
      "100%|██████████████████████████████████| 29850/29850 [00:00<00:00, 51376.70it/s]\n"
     ]
    },
    {
     "name": "stdout",
     "output_type": "stream",
     "text": [
      "3.1677535363484295\n",
      "0.000485327607674069\n",
      "8.189781060613517e-06\n",
      "0.9774116442480749\n",
      "0.03103265871586088\n"
     ]
    },
    {
     "name": "stderr",
     "output_type": "stream",
     "text": [
      "100%|██████████████████████████████████| 29850/29850 [00:00<00:00, 51839.76it/s]\n"
     ]
    },
    {
     "name": "stdout",
     "output_type": "stream",
     "text": [
      "dsjfdsomfosdmfodskmfosdkmf1.0\n"
     ]
    },
    {
     "name": "stderr",
     "output_type": "stream",
     "text": [
      "100%|██████████████████████████████████| 29850/29850 [00:00<00:00, 50525.01it/s]\n"
     ]
    },
    {
     "name": "stdout",
     "output_type": "stream",
     "text": [
      "1.0 2.0 0.0035964862035545516 3.2574171561561456e-05\n",
      "\n",
      "simu/yukawa_scan_1/conf17\n",
      "cutFractions: 1.0  g: 3.0\n"
     ]
    },
    {
     "name": "stderr",
     "output_type": "stream",
     "text": [
      "100%|██████████████████████████████████| 29846/29846 [00:00<00:00, 49313.30it/s]\n"
     ]
    },
    {
     "name": "stdout",
     "output_type": "stream",
     "text": [
      "3.2097941707431232\n",
      "0.00046436658522851633\n",
      "7.83659417225518e-06\n",
      "0.9328101696226345\n",
      "0.029706228336095104\n"
     ]
    },
    {
     "name": "stderr",
     "output_type": "stream",
     "text": [
      "100%|██████████████████████████████████| 29846/29846 [00:00<00:00, 46855.24it/s]\n"
     ]
    },
    {
     "name": "stdout",
     "output_type": "stream",
     "text": [
      "dsjfdsomfosdmfodskmfosdkmf1.0\n"
     ]
    },
    {
     "name": "stderr",
     "output_type": "stream",
     "text": [
      "100%|██████████████████████████████████| 29846/29846 [00:00<00:00, 47621.68it/s]\n"
     ]
    },
    {
     "name": "stdout",
     "output_type": "stream",
     "text": [
      "1.0 3.0 0.003449511976419803 3.1519540113610284e-05\n",
      "\n",
      "simu/yukawa_scan_2/conf1\n",
      "cutFractions: 0.5  g: -3.0\n"
     ]
    },
    {
     "name": "stderr",
     "output_type": "stream",
     "text": [
      "100%|██████████████████████████████████| 29848/29848 [00:00<00:00, 52428.25it/s]\n"
     ]
    },
    {
     "name": "stdout",
     "output_type": "stream",
     "text": [
      "-3.2113121240954006\n",
      "0.000935162270223073\n",
      "2.9893672909525427e-05\n",
      "3.8414246270279246\n",
      "0.22960596285611162\n"
     ]
    },
    {
     "name": "stderr",
     "output_type": "stream",
     "text": [
      "100%|██████████████████████████████████| 29848/29848 [00:00<00:00, 52014.81it/s]\n"
     ]
    },
    {
     "name": "stdout",
     "output_type": "stream",
     "text": [
      "dsjfdsomfosdmfodskmfosdkmf1.0\n"
     ]
    },
    {
     "name": "stderr",
     "output_type": "stream",
     "text": [
      "100%|██████████████████████████████████| 29848/29848 [00:00<00:00, 52289.92it/s]\n"
     ]
    },
    {
     "name": "stdout",
     "output_type": "stream",
     "text": [
      "0.5 -3.0 0.003396685238988636 5.079754122383274e-05\n",
      "\n",
      "simu/yukawa_scan_2/conf2\n",
      "cutFractions: 0.5  g: -2.0\n"
     ]
    },
    {
     "name": "stderr",
     "output_type": "stream",
     "text": [
      "100%|██████████████████████████████████| 29846/29846 [00:00<00:00, 52977.53it/s]\n"
     ]
    },
    {
     "name": "stdout",
     "output_type": "stream",
     "text": [
      "-3.1694695017757804\n",
      "0.00098043219886253\n",
      "3.1851491613220724e-05\n",
      "4.017194836917816\n",
      "0.24380373448356496\n"
     ]
    },
    {
     "name": "stderr",
     "output_type": "stream",
     "text": [
      "100%|██████████████████████████████████| 29846/29846 [00:00<00:00, 50735.79it/s]\n"
     ]
    },
    {
     "name": "stdout",
     "output_type": "stream",
     "text": [
      "dsjfdsomfosdmfodskmfosdkmf1.0\n"
     ]
    },
    {
     "name": "stderr",
     "output_type": "stream",
     "text": [
      "100%|██████████████████████████████████| 29846/29846 [00:00<00:00, 47607.55it/s]\n"
     ]
    },
    {
     "name": "stdout",
     "output_type": "stream",
     "text": [
      "0.5 -2.0 0.0035698641975370686 5.510760134798445e-05\n",
      "\n",
      "simu/yukawa_scan_2/conf3\n",
      "cutFractions: 0.5  g: -1.0\n"
     ]
    },
    {
     "name": "stderr",
     "output_type": "stream",
     "text": [
      "100%|██████████████████████████████████| 29847/29847 [00:00<00:00, 46838.65it/s]\n"
     ]
    },
    {
     "name": "stdout",
     "output_type": "stream",
     "text": [
      "-3.0681229939357757\n",
      "0.0011108293227163595\n",
      "3.830991329766228e-05\n",
      "4.5707204382713655\n",
      "0.29427218503028174\n"
     ]
    },
    {
     "name": "stderr",
     "output_type": "stream",
     "text": [
      "100%|██████████████████████████████████| 29847/29847 [00:00<00:00, 46216.18it/s]\n"
     ]
    },
    {
     "name": "stdout",
     "output_type": "stream",
     "text": [
      "dsjfdsomfosdmfodskmfosdkmf1.0\n"
     ]
    },
    {
     "name": "stderr",
     "output_type": "stream",
     "text": [
      "100%|██████████████████████████████████| 29847/29847 [00:00<00:00, 45232.85it/s]\n"
     ]
    },
    {
     "name": "stdout",
     "output_type": "stream",
     "text": [
      "0.5 -1.0 0.004027615306357813 6.597720934891035e-05\n",
      "\n",
      "simu/yukawa_scan_2/conf4\n",
      "cutFractions: 0.5  g: -0.5\n"
     ]
    },
    {
     "name": "stderr",
     "output_type": "stream",
     "text": [
      "100%|██████████████████████████████████| 29851/29851 [00:00<00:00, 45944.33it/s]\n"
     ]
    },
    {
     "name": "stdout",
     "output_type": "stream",
     "text": [
      "-2.9341507979632078\n",
      "0.0013090056796999175\n",
      "4.821582479245833e-05\n",
      "5.428023287276327\n",
      "0.3721108879867424\n"
     ]
    },
    {
     "name": "stderr",
     "output_type": "stream",
     "text": [
      "100%|██████████████████████████████████| 29851/29851 [00:00<00:00, 47566.21it/s]\n"
     ]
    },
    {
     "name": "stdout",
     "output_type": "stream",
     "text": [
      "dsjfdsomfosdmfodskmfosdkmf1.0\n"
     ]
    },
    {
     "name": "stderr",
     "output_type": "stream",
     "text": [
      "100%|██████████████████████████████████| 29851/29851 [00:00<00:00, 50395.57it/s]\n"
     ]
    },
    {
     "name": "stdout",
     "output_type": "stream",
     "text": [
      "0.5 -0.5 0.004709911052507194 8.239188394896056e-05\n",
      "\n",
      "simu/yukawa_scan_2/conf5\n",
      "cutFractions: 0.5  g: -0.2\n"
     ]
    },
    {
     "name": "stderr",
     "output_type": "stream",
     "text": [
      "100%|██████████████████████████████████| 29850/29850 [00:00<00:00, 50432.01it/s]\n"
     ]
    },
    {
     "name": "stdout",
     "output_type": "stream",
     "text": [
      "-2.751161492797306\n",
      "0.0016194241365183107\n",
      "6.52768681138553e-05\n",
      "6.69550620774089\n",
      "0.5011326851342002\n"
     ]
    },
    {
     "name": "stderr",
     "output_type": "stream",
     "text": [
      "100%|██████████████████████████████████| 29850/29850 [00:00<00:00, 50103.70it/s]\n"
     ]
    },
    {
     "name": "stdout",
     "output_type": "stream",
     "text": [
      "dsjfdsomfosdmfodskmfosdkmf1.0\n"
     ]
    },
    {
     "name": "stderr",
     "output_type": "stream",
     "text": [
      "100%|██████████████████████████████████| 29850/29850 [00:00<00:00, 48318.17it/s]\n"
     ]
    },
    {
     "name": "stdout",
     "output_type": "stream",
     "text": [
      "0.5 -0.2 0.005843296142830183 0.00011416296253169207\n",
      "\n",
      "simu/yukawa_scan_2/conf6\n",
      "cutFractions: 0.5  g: -0.1\n"
     ]
    },
    {
     "name": "stderr",
     "output_type": "stream",
     "text": [
      "100%|██████████████████████████████████| 29847/29847 [00:00<00:00, 50876.38it/s]\n"
     ]
    },
    {
     "name": "stdout",
     "output_type": "stream",
     "text": [
      "2.3249548604549855\n",
      "0.0028313771696280073\n",
      "0.0001452052140836517\n",
      "11.621488813390203\n",
      "1.1002331336231759\n"
     ]
    },
    {
     "name": "stderr",
     "output_type": "stream",
     "text": [
      "100%|██████████████████████████████████| 29847/29847 [00:00<00:00, 51034.34it/s]\n"
     ]
    },
    {
     "name": "stdout",
     "output_type": "stream",
     "text": [
      "dsjfdsomfosdmfodskmfosdkmf1.0\n"
     ]
    },
    {
     "name": "stderr",
     "output_type": "stream",
     "text": [
      "100%|██████████████████████████████████| 29847/29847 [00:00<00:00, 49752.42it/s]\n"
     ]
    },
    {
     "name": "stdout",
     "output_type": "stream",
     "text": [
      "0.5 -0.1 0.010286504279002715 0.00030049176370452774\n",
      "\n",
      "simu/yukawa_scan_2/conf7\n",
      "cutFractions: 0.5  g: -0.05\n"
     ]
    },
    {
     "name": "stderr",
     "output_type": "stream",
     "text": [
      "100%|██████████████████████████████████| 29849/29849 [00:00<00:00, 50032.40it/s]\n"
     ]
    },
    {
     "name": "stdout",
     "output_type": "stream",
     "text": [
      "2.4078598277999355\n",
      "0.002453312224680539\n",
      "0.00011838054422478655\n",
      "10.052952112873594\n",
      "0.8972714778787136\n"
     ]
    },
    {
     "name": "stderr",
     "output_type": "stream",
     "text": [
      "100%|██████████████████████████████████| 29849/29849 [00:00<00:00, 48759.56it/s]\n"
     ]
    },
    {
     "name": "stdout",
     "output_type": "stream",
     "text": [
      "dsjfdsomfosdmfodskmfosdkmf1.0\n"
     ]
    },
    {
     "name": "stderr",
     "output_type": "stream",
     "text": [
      "100%|██████████████████████████████████| 29849/29849 [00:00<00:00, 50067.82it/s]\n"
     ]
    },
    {
     "name": "stdout",
     "output_type": "stream",
     "text": [
      "0.5 -0.05 0.008929364377369934 0.0002332929383617778\n",
      "\n",
      "simu/yukawa_scan_2/conf8\n",
      "cutFractions: 0.5  g: -0.01\n"
     ]
    },
    {
     "name": "stderr",
     "output_type": "stream",
     "text": [
      "100%|██████████████████████████████████| 29847/29847 [00:00<00:00, 52360.71it/s]\n"
     ]
    },
    {
     "name": "stdout",
     "output_type": "stream",
     "text": [
      "2.4790190555164666\n",
      "0.002223274129241913\n",
      "0.00010254855243106454\n",
      "9.111796535734157\n",
      "0.7779219452284389\n"
     ]
    },
    {
     "name": "stderr",
     "output_type": "stream",
     "text": [
      "100%|██████████████████████████████████| 29847/29847 [00:00<00:00, 47615.74it/s]\n"
     ]
    },
    {
     "name": "stdout",
     "output_type": "stream",
     "text": [
      "dsjfdsomfosdmfodskmfosdkmf1.0\n"
     ]
    },
    {
     "name": "stderr",
     "output_type": "stream",
     "text": [
      "100%|██████████████████████████████████| 29847/29847 [00:00<00:00, 49038.83it/s]\n"
     ]
    },
    {
     "name": "stdout",
     "output_type": "stream",
     "text": [
      "0.5 -0.01 0.008090746287227365 0.00019864606530483884\n",
      "\n",
      "simu/yukawa_scan_2/conf9\n",
      "cutFractions: 0.5  g: 1e-05\n"
     ]
    },
    {
     "name": "stderr",
     "output_type": "stream",
     "text": [
      "100%|██████████████████████████████████| 29849/29849 [00:00<00:00, 51450.52it/s]\n"
     ]
    },
    {
     "name": "stdout",
     "output_type": "stream",
     "text": [
      "2.4959869416060902\n",
      "0.0021651662797543734\n",
      "9.827972207548855e-05\n",
      "8.824706970462836\n",
      "0.7414278172757233\n"
     ]
    },
    {
     "name": "stderr",
     "output_type": "stream",
     "text": [
      "100%|██████████████████████████████████| 29849/29849 [00:00<00:00, 49911.89it/s]\n"
     ]
    },
    {
     "name": "stdout",
     "output_type": "stream",
     "text": [
      "dsjfdsomfosdmfodskmfosdkmf1.0\n"
     ]
    },
    {
     "name": "stderr",
     "output_type": "stream",
     "text": [
      "100%|██████████████████████████████████| 29849/29849 [00:00<00:00, 49661.71it/s]\n"
     ]
    },
    {
     "name": "stdout",
     "output_type": "stream",
     "text": [
      "0.5 1e-05 0.007923666553824201 0.00019197308944470022\n",
      "\n",
      "simu/yukawa_scan_2/conf10\n",
      "cutFractions: 0.5  g: 0.01\n"
     ]
    },
    {
     "name": "stderr",
     "output_type": "stream",
     "text": [
      "100%|██████████████████████████████████| 29850/29850 [00:00<00:00, 49998.25it/s]\n"
     ]
    },
    {
     "name": "stdout",
     "output_type": "stream",
     "text": [
      "2.512547122278036\n",
      "0.0021218441325782495\n",
      "9.552542921177184e-05\n",
      "8.660236441033899\n",
      "0.7218036655355574\n"
     ]
    },
    {
     "name": "stderr",
     "output_type": "stream",
     "text": [
      "100%|██████████████████████████████████| 29850/29850 [00:00<00:00, 49264.87it/s]\n"
     ]
    },
    {
     "name": "stdout",
     "output_type": "stream",
     "text": [
      "dsjfdsomfosdmfodskmfosdkmf1.0\n"
     ]
    },
    {
     "name": "stderr",
     "output_type": "stream",
     "text": [
      "100%|██████████████████████████████████| 29850/29850 [00:00<00:00, 53545.02it/s]\n"
     ]
    },
    {
     "name": "stdout",
     "output_type": "stream",
     "text": [
      "0.5 0.01 0.007754619485728726 0.00018481039232842882\n",
      "\n",
      "simu/yukawa_scan_2/conf11\n",
      "cutFractions: 0.5  g: 0.05\n"
     ]
    },
    {
     "name": "stderr",
     "output_type": "stream",
     "text": [
      "100%|██████████████████████████████████| 29848/29848 [00:00<00:00, 50871.84it/s]\n"
     ]
    },
    {
     "name": "stdout",
     "output_type": "stream",
     "text": [
      "2.573832048713475\n",
      "0.0019708661580979192\n",
      "8.650345157269088e-05\n",
      "8.081800039617619\n",
      "0.6576940905813666\n"
     ]
    },
    {
     "name": "stderr",
     "output_type": "stream",
     "text": [
      "100%|██████████████████████████████████| 29848/29848 [00:00<00:00, 50077.94it/s]\n"
     ]
    },
    {
     "name": "stdout",
     "output_type": "stream",
     "text": [
      "dsjfdsomfosdmfodskmfosdkmf1.0\n"
     ]
    },
    {
     "name": "stderr",
     "output_type": "stream",
     "text": [
      "100%|██████████████████████████████████| 29848/29848 [00:00<00:00, 49059.17it/s]\n"
     ]
    },
    {
     "name": "stdout",
     "output_type": "stream",
     "text": [
      "0.5 0.05 0.007168974898519881 0.0001620191516397306\n",
      "\n",
      "simu/yukawa_scan_2/conf12\n",
      "cutFractions: 0.5  g: 0.1\n"
     ]
    },
    {
     "name": "stderr",
     "output_type": "stream",
     "text": [
      "100%|██████████████████████████████████| 29847/29847 [00:00<00:00, 50221.36it/s]\n"
     ]
    },
    {
     "name": "stdout",
     "output_type": "stream",
     "text": [
      "2.6405617485844424\n",
      "0.0018220460357773714\n",
      "7.714111180064521e-05\n",
      "7.475801922762595\n",
      "0.5871249738098275\n"
     ]
    },
    {
     "name": "stderr",
     "output_type": "stream",
     "text": [
      "100%|██████████████████████████████████| 29847/29847 [00:00<00:00, 51083.38it/s]\n"
     ]
    },
    {
     "name": "stdout",
     "output_type": "stream",
     "text": [
      "dsjfdsomfosdmfodskmfosdkmf1.0\n"
     ]
    },
    {
     "name": "stderr",
     "output_type": "stream",
     "text": [
      "100%|██████████████████████████████████| 29847/29847 [00:00<00:00, 50558.52it/s]\n"
     ]
    },
    {
     "name": "stdout",
     "output_type": "stream",
     "text": [
      "0.5 0.1 0.006623915173372299 0.00014104971522327077\n",
      "\n",
      "simu/yukawa_scan_2/conf13\n",
      "cutFractions: 0.5  g: 0.2\n"
     ]
    },
    {
     "name": "stderr",
     "output_type": "stream",
     "text": [
      "100%|██████████████████████████████████| 29850/29850 [00:00<00:00, 51290.97it/s]\n"
     ]
    },
    {
     "name": "stdout",
     "output_type": "stream",
     "text": [
      "2.7455960961474095\n",
      "0.001602748405179504\n",
      "6.393519446889821e-05\n",
      "6.538678325107823\n",
      "0.4844341835550828\n"
     ]
    },
    {
     "name": "stderr",
     "output_type": "stream",
     "text": [
      "100%|██████████████████████████████████| 29850/29850 [00:00<00:00, 52117.23it/s]\n"
     ]
    },
    {
     "name": "stdout",
     "output_type": "stream",
     "text": [
      "dsjfdsomfosdmfodskmfosdkmf1.0\n"
     ]
    },
    {
     "name": "stderr",
     "output_type": "stream",
     "text": [
      "100%|██████████████████████████████████| 29850/29850 [00:00<00:00, 52466.24it/s]\n"
     ]
    },
    {
     "name": "stdout",
     "output_type": "stream",
     "text": [
      "0.5 0.2 0.005860914297862121 0.00011677658658963926\n",
      "\n",
      "simu/yukawa_scan_2/conf14\n",
      "cutFractions: 0.5  g: 0.5\n"
     ]
    },
    {
     "name": "stderr",
     "output_type": "stream",
     "text": [
      "100%|██████████████████████████████████| 29848/29848 [00:00<00:00, 52321.24it/s]\n"
     ]
    },
    {
     "name": "stdout",
     "output_type": "stream",
     "text": [
      "2.929609393259194\n",
      "0.0012886697474272797\n",
      "4.68794559602448e-05\n",
      "5.271778120570419\n",
      "0.3570439432299914\n"
     ]
    },
    {
     "name": "stderr",
     "output_type": "stream",
     "text": [
      "100%|██████████████████████████████████| 29848/29848 [00:00<00:00, 50468.21it/s]\n"
     ]
    },
    {
     "name": "stdout",
     "output_type": "stream",
     "text": [
      "dsjfdsomfosdmfodskmfosdkmf1.0\n"
     ]
    },
    {
     "name": "stderr",
     "output_type": "stream",
     "text": [
      "100%|██████████████████████████████████| 29848/29848 [00:00<00:00, 51774.55it/s]\n"
     ]
    },
    {
     "name": "stdout",
     "output_type": "stream",
     "text": [
      "0.5 0.5 0.0046995724652610215 8.279979977862216e-05\n",
      "\n",
      "simu/yukawa_scan_2/conf15\n",
      "cutFractions: 0.5  g: 1.0\n"
     ]
    },
    {
     "name": "stderr",
     "output_type": "stream",
     "text": [
      "100%|██████████████████████████████████| 29847/29847 [00:00<00:00, 53085.77it/s]\n"
     ]
    },
    {
     "name": "stdout",
     "output_type": "stream",
     "text": [
      "3.0642965822360684\n",
      "0.0011037206307116345\n",
      "3.7524798183316386e-05\n",
      "4.536498704556195\n",
      "0.28747277690428763\n"
     ]
    },
    {
     "name": "stderr",
     "output_type": "stream",
     "text": [
      "100%|██████████████████████████████████| 29847/29847 [00:00<00:00, 52070.57it/s]\n"
     ]
    },
    {
     "name": "stdout",
     "output_type": "stream",
     "text": [
      "dsjfdsomfosdmfodskmfosdkmf1.0\n"
     ]
    },
    {
     "name": "stderr",
     "output_type": "stream",
     "text": [
      "100%|██████████████████████████████████| 29847/29847 [00:00<00:00, 49509.40it/s]\n"
     ]
    },
    {
     "name": "stdout",
     "output_type": "stream",
     "text": [
      "0.5 1.0 0.004006235599177571 6.477270189727759e-05\n",
      "\n",
      "simu/yukawa_scan_2/conf16\n",
      "cutFractions: 0.5  g: 2.0\n"
     ]
    },
    {
     "name": "stderr",
     "output_type": "stream",
     "text": [
      "100%|██████████████████████████████████| 29846/29846 [00:00<00:00, 49642.56it/s]\n"
     ]
    },
    {
     "name": "stdout",
     "output_type": "stream",
     "text": [
      "3.166125937143987\n",
      "0.0009730359065777924\n",
      "3.110539488224672e-05\n",
      "3.9494745573276893\n",
      "0.2355932313588275\n"
     ]
    },
    {
     "name": "stderr",
     "output_type": "stream",
     "text": [
      "100%|██████████████████████████████████| 29846/29846 [00:00<00:00, 51288.57it/s]\n"
     ]
    },
    {
     "name": "stdout",
     "output_type": "stream",
     "text": [
      "dsjfdsomfosdmfodskmfosdkmf1.0\n"
     ]
    },
    {
     "name": "stderr",
     "output_type": "stream",
     "text": [
      "100%|██████████████████████████████████| 29846/29846 [00:00<00:00, 49491.75it/s]\n"
     ]
    },
    {
     "name": "stdout",
     "output_type": "stream",
     "text": [
      "0.5 2.0 0.003576513200131927 5.48469955744688e-05\n",
      "\n",
      "simu/yukawa_scan_2/conf17\n",
      "cutFractions: 0.5  g: 3.0\n"
     ]
    },
    {
     "name": "stderr",
     "output_type": "stream",
     "text": [
      "100%|██████████████████████████████████| 29847/29847 [00:00<00:00, 51464.58it/s]\n"
     ]
    },
    {
     "name": "stdout",
     "output_type": "stream",
     "text": [
      "3.208032361711395\n",
      "0.0009286159585451543\n",
      "2.91942154049483e-05\n",
      "3.761496382077971\n",
      "0.2209184301605531\n"
     ]
    },
    {
     "name": "stderr",
     "output_type": "stream",
     "text": [
      "100%|██████████████████████████████████| 29847/29847 [00:00<00:00, 52337.62it/s]\n"
     ]
    },
    {
     "name": "stdout",
     "output_type": "stream",
     "text": [
      "dsjfdsomfosdmfodskmfosdkmf1.0\n"
     ]
    },
    {
     "name": "stderr",
     "output_type": "stream",
     "text": [
      "100%|██████████████████████████████████| 29847/29847 [00:00<00:00, 51562.83it/s]\n"
     ]
    },
    {
     "name": "stdout",
     "output_type": "stream",
     "text": [
      "0.5 3.0 0.0034203698118813494 5.084687107161718e-05\n",
      "\n",
      "simu/yukawa_scan_4/conf18\n",
      "cutFractions: 0.25  g: -3.0\n"
     ]
    },
    {
     "name": "stderr",
     "output_type": "stream",
     "text": [
      "100%|██████████████████████████████████| 29845/29845 [00:00<00:00, 52184.44it/s]\n"
     ]
    },
    {
     "name": "stdout",
     "output_type": "stream",
     "text": [
      "-3.2161839711844693\n",
      "0.0018663716896152773\n",
      "0.00010830421962228681\n",
      "15.504808421423736\n",
      "1.6548467716308937\n"
     ]
    },
    {
     "name": "stderr",
     "output_type": "stream",
     "text": [
      "100%|██████████████████████████████████| 29845/29845 [00:00<00:00, 52542.29it/s]\n"
     ]
    },
    {
     "name": "stdout",
     "output_type": "stream",
     "text": [
      "dsjfdsomfosdmfodskmfosdkmf1.0\n"
     ]
    },
    {
     "name": "stderr",
     "output_type": "stream",
     "text": [
      "100%|██████████████████████████████████| 29845/29845 [00:00<00:00, 50053.20it/s]\n"
     ]
    },
    {
     "name": "stdout",
     "output_type": "stream",
     "text": [
      "0.25 -3.0 0.00334906059296146 0.00010984143546283195\n",
      "\n",
      "simu/yukawa_scan_4/conf19\n",
      "cutFractions: 0.25  g: -2.0\n"
     ]
    },
    {
     "name": "stderr",
     "output_type": "stream",
     "text": [
      "100%|██████████████████████████████████| 29844/29844 [00:00<00:00, 52462.05it/s]\n"
     ]
    },
    {
     "name": "stdout",
     "output_type": "stream",
     "text": [
      "-3.174436085645337\n",
      "0.001975689431965945\n",
      "0.00011802254218379701\n",
      "16.57546411244897\n",
      "1.8197271721259378\n"
     ]
    },
    {
     "name": "stderr",
     "output_type": "stream",
     "text": [
      "100%|██████████████████████████████████| 29844/29844 [00:00<00:00, 51696.12it/s]\n"
     ]
    },
    {
     "name": "stdout",
     "output_type": "stream",
     "text": [
      "dsjfdsomfosdmfodskmfosdkmf1.0\n"
     ]
    },
    {
     "name": "stderr",
     "output_type": "stream",
     "text": [
      "100%|██████████████████████████████████| 29844/29844 [00:00<00:00, 50371.39it/s]\n"
     ]
    },
    {
     "name": "stdout",
     "output_type": "stream",
     "text": [
      "0.25 -2.0 0.0035100995096543647 0.0001199584496460611\n",
      "\n",
      "simu/yukawa_scan_4/conf20\n",
      "cutFractions: 0.25  g: -1.0\n"
     ]
    },
    {
     "name": "stderr",
     "output_type": "stream",
     "text": [
      "100%|██████████████████████████████████| 29845/29845 [00:00<00:00, 53042.60it/s]\n"
     ]
    },
    {
     "name": "stdout",
     "output_type": "stream",
     "text": [
      "-3.0742643226671267\n",
      "0.0022330014237538763\n",
      "0.0001407059243408161\n",
      "18.81241673873768\n",
      "2.1744995823987057\n"
     ]
    },
    {
     "name": "stderr",
     "output_type": "stream",
     "text": [
      "100%|██████████████████████████████████| 29845/29845 [00:00<00:00, 51648.26it/s]\n"
     ]
    },
    {
     "name": "stdout",
     "output_type": "stream",
     "text": [
      "dsjfdsomfosdmfodskmfosdkmf1.0\n"
     ]
    },
    {
     "name": "stderr",
     "output_type": "stream",
     "text": [
      "100%|██████████████████████████████████| 29845/29845 [00:00<00:00, 51585.47it/s]\n"
     ]
    },
    {
     "name": "stdout",
     "output_type": "stream",
     "text": [
      "0.25 -1.0 0.003950312619930756 0.00014369154454820177\n",
      "\n",
      "simu/yukawa_scan_4/conf21\n",
      "cutFractions: 0.25  g: -0.5\n"
     ]
    },
    {
     "name": "stderr",
     "output_type": "stream",
     "text": [
      "100%|██████████████████████████████████| 29848/29848 [00:00<00:00, 52412.71it/s]\n"
     ]
    },
    {
     "name": "stdout",
     "output_type": "stream",
     "text": [
      "-2.941016612168303\n",
      "0.0026243378808679077\n",
      "0.00017747143337145524\n",
      "22.168310512277323\n",
      "2.7440263927600776\n"
     ]
    },
    {
     "name": "stderr",
     "output_type": "stream",
     "text": [
      "100%|██████████████████████████████████| 29848/29848 [00:00<00:00, 53391.59it/s]\n"
     ]
    },
    {
     "name": "stdout",
     "output_type": "stream",
     "text": [
      "dsjfdsomfosdmfodskmfosdkmf1.0\n"
     ]
    },
    {
     "name": "stderr",
     "output_type": "stream",
     "text": [
      "100%|██████████████████████████████████| 29848/29848 [00:00<00:00, 53280.38it/s]\n"
     ]
    },
    {
     "name": "stdout",
     "output_type": "stream",
     "text": [
      "0.25 -0.5 0.004629695330180337 0.00018166827763354298\n",
      "\n",
      "simu/yukawa_scan_4/conf22\n",
      "cutFractions: 0.25  g: -0.2\n"
     ]
    },
    {
     "name": "stderr",
     "output_type": "stream",
     "text": [
      "100%|██████████████████████████████████| 29848/29848 [00:00<00:00, 53532.57it/s]\n"
     ]
    },
    {
     "name": "stdout",
     "output_type": "stream",
     "text": [
      "-2.759532726480836\n",
      "0.003268908597030309\n",
      "0.00024341321824673418\n",
      "27.882004763547744\n",
      "3.7864653607142866\n"
     ]
    },
    {
     "name": "stderr",
     "output_type": "stream",
     "text": [
      "100%|██████████████████████████████████| 29848/29848 [00:00<00:00, 52753.78it/s]\n"
     ]
    },
    {
     "name": "stdout",
     "output_type": "stream",
     "text": [
      "dsjfdsomfosdmfodskmfosdkmf1.0\n"
     ]
    },
    {
     "name": "stderr",
     "output_type": "stream",
     "text": [
      "100%|██████████████████████████████████| 29848/29848 [00:00<00:00, 53838.22it/s]\n"
     ]
    },
    {
     "name": "stdout",
     "output_type": "stream",
     "text": [
      "0.25 -0.2 0.00570904645627578 0.0002468879331087652\n",
      "\n",
      "simu/yukawa_scan_4/conf23\n",
      "cutFractions: 0.25  g: -0.1\n"
     ]
    },
    {
     "name": "stderr",
     "output_type": "stream",
     "text": [
      "100%|██████████████████████████████████| 29847/29847 [00:00<00:00, 54292.58it/s]\n"
     ]
    },
    {
     "name": "stdout",
     "output_type": "stream",
     "text": [
      "2.341612006231802\n",
      "0.005909514176185745\n",
      "0.0005646569647654679\n",
      "50.39763061569345\n",
      "8.694935561367526\n"
     ]
    },
    {
     "name": "stderr",
     "output_type": "stream",
     "text": [
      "100%|██████████████████████████████████| 29847/29847 [00:00<00:00, 53613.79it/s]\n"
     ]
    },
    {
     "name": "stdout",
     "output_type": "stream",
     "text": [
      "dsjfdsomfosdmfodskmfosdkmf1.0\n"
     ]
    },
    {
     "name": "stderr",
     "output_type": "stream",
     "text": [
      "100%|██████████████████████████████████| 29847/29847 [00:00<00:00, 52264.18it/s]\n"
     ]
    },
    {
     "name": "stdout",
     "output_type": "stream",
     "text": [
      "0.25 -0.1 0.010306741749216582 0.000707891893803824\n",
      "\n",
      "simu/yukawa_scan_4/conf24\n",
      "cutFractions: 0.25  g: -0.05\n"
     ]
    },
    {
     "name": "stderr",
     "output_type": "stream",
     "text": [
      "100%|██████████████████████████████████| 29849/29849 [00:00<00:00, 53879.12it/s]\n"
     ]
    },
    {
     "name": "stdout",
     "output_type": "stream",
     "text": [
      "2.4219209802673314\n",
      "0.005091527953684796\n",
      "0.0004570258655743995\n",
      "43.34583755187112\n",
      "7.04555933991079\n"
     ]
    },
    {
     "name": "stderr",
     "output_type": "stream",
     "text": [
      "100%|██████████████████████████████████| 29849/29849 [00:00<00:00, 52929.68it/s]\n"
     ]
    },
    {
     "name": "stdout",
     "output_type": "stream",
     "text": [
      "dsjfdsomfosdmfodskmfosdkmf1.0\n"
     ]
    },
    {
     "name": "stderr",
     "output_type": "stream",
     "text": [
      "100%|██████████████████████████████████| 29849/29849 [00:00<00:00, 53864.37it/s]\n"
     ]
    },
    {
     "name": "stdout",
     "output_type": "stream",
     "text": [
      "0.25 -0.05 0.008900318392110786 0.0005607746799463242\n",
      "\n",
      "simu/yukawa_scan_4/conf25\n",
      "cutFractions: 0.25  g: -0.01\n"
     ]
    },
    {
     "name": "stderr",
     "output_type": "stream",
     "text": [
      "100%|██████████████████████████████████| 29849/29849 [00:00<00:00, 53662.93it/s]\n"
     ]
    },
    {
     "name": "stdout",
     "output_type": "stream",
     "text": [
      "2.492007957050476\n",
      "0.0045876391380641835\n",
      "0.0003943017032120929\n",
      "39.069169667716\n",
      "6.091928929413884\n"
     ]
    },
    {
     "name": "stderr",
     "output_type": "stream",
     "text": [
      "100%|██████████████████████████████████| 29849/29849 [00:00<00:00, 49127.75it/s]\n"
     ]
    },
    {
     "name": "stdout",
     "output_type": "stream",
     "text": [
      "dsjfdsomfosdmfodskmfosdkmf1.0\n"
     ]
    },
    {
     "name": "stderr",
     "output_type": "stream",
     "text": [
      "100%|██████████████████████████████████| 29849/29849 [00:00<00:00, 50181.06it/s]\n"
     ]
    },
    {
     "name": "stdout",
     "output_type": "stream",
     "text": [
      "0.25 -0.01 0.008019038920922731 0.00047805250103162577\n",
      "\n",
      "simu/yukawa_scan_4/conf26\n",
      "cutFractions: 0.25  g: 1e-05\n"
     ]
    },
    {
     "name": "stderr",
     "output_type": "stream",
     "text": [
      "100%|██████████████████████████████████| 29849/29849 [00:00<00:00, 51934.54it/s]\n"
     ]
    },
    {
     "name": "stdout",
     "output_type": "stream",
     "text": [
      "2.508726853160898\n",
      "0.004499664647305842\n",
      "0.00038321650442459224\n",
      "38.30720294946547\n",
      "5.919576231002696\n"
     ]
    },
    {
     "name": "stderr",
     "output_type": "stream",
     "text": [
      "100%|██████████████████████████████████| 29849/29849 [00:00<00:00, 52776.03it/s]\n"
     ]
    },
    {
     "name": "stdout",
     "output_type": "stream",
     "text": [
      "dsjfdsomfosdmfodskmfosdkmf1.0\n"
     ]
    },
    {
     "name": "stderr",
     "output_type": "stream",
     "text": [
      "100%|██████████████████████████████████| 29849/29849 [00:00<00:00, 50650.66it/s]\n"
     ]
    },
    {
     "name": "stdout",
     "output_type": "stream",
     "text": [
      "0.25 1e-05 0.00786827394859175 0.00046327150590434274\n",
      "\n",
      "simu/yukawa_scan_4/conf27\n",
      "cutFractions: 0.25  g: 0.01\n"
     ]
    },
    {
     "name": "stderr",
     "output_type": "stream",
     "text": [
      "100%|██████████████████████████████████| 29850/29850 [00:00<00:00, 50826.30it/s]\n"
     ]
    },
    {
     "name": "stdout",
     "output_type": "stream",
     "text": [
      "2.5250311098827614\n",
      "0.0043982311704577615\n",
      "0.00037109521249618747\n",
      "37.42378326268991\n",
      "5.732170422182506\n"
     ]
    },
    {
     "name": "stderr",
     "output_type": "stream",
     "text": [
      "100%|██████████████████████████████████| 29850/29850 [00:00<00:00, 49995.50it/s]\n"
     ]
    },
    {
     "name": "stdout",
     "output_type": "stream",
     "text": [
      "dsjfdsomfosdmfodskmfosdkmf1.0\n"
     ]
    },
    {
     "name": "stderr",
     "output_type": "stream",
     "text": [
      "100%|██████████████████████████████████| 29850/29850 [00:00<00:00, 53363.33it/s]\n"
     ]
    },
    {
     "name": "stdout",
     "output_type": "stream",
     "text": [
      "0.25 0.01 0.007695693063870431 0.0004469955929442091\n",
      "\n",
      "simu/yukawa_scan_4/conf28\n",
      "cutFractions: 0.25  g: 0.05\n"
     ]
    },
    {
     "name": "stderr",
     "output_type": "stream",
     "text": [
      "100%|██████████████████████████████████| 29850/29850 [00:00<00:00, 50882.45it/s]\n"
     ]
    },
    {
     "name": "stdout",
     "output_type": "stream",
     "text": [
      "2.5857654335008555\n",
      "0.004062043143449411\n",
      "0.000331247507906305\n",
      "34.512050068651774\n",
      "5.116047335433682\n"
     ]
    },
    {
     "name": "stderr",
     "output_type": "stream",
     "text": [
      "100%|██████████████████████████████████| 29850/29850 [00:00<00:00, 51154.88it/s]\n"
     ]
    },
    {
     "name": "stdout",
     "output_type": "stream",
     "text": [
      "dsjfdsomfosdmfodskmfosdkmf1.0\n"
     ]
    },
    {
     "name": "stderr",
     "output_type": "stream",
     "text": [
      "100%|██████████████████████████████████| 29850/29850 [00:00<00:00, 49918.45it/s]\n"
     ]
    },
    {
     "name": "stdout",
     "output_type": "stream",
     "text": [
      "0.25 0.05 0.007119351679505528 0.00039507415132753376\n",
      "\n",
      "simu/yukawa_scan_4/conf29\n",
      "cutFractions: 0.25  g: 0.1\n"
     ]
    },
    {
     "name": "stderr",
     "output_type": "stream",
     "text": [
      "100%|██████████████████████████████████| 29848/29848 [00:00<00:00, 51818.22it/s]\n"
     ]
    },
    {
     "name": "stdout",
     "output_type": "stream",
     "text": [
      "2.6517174624765305\n",
      "0.0037563073212153915\n",
      "0.00029692236890636403\n",
      "32.03036450853597\n",
      "4.608459970421552\n"
     ]
    },
    {
     "name": "stderr",
     "output_type": "stream",
     "text": [
      "100%|██████████████████████████████████| 29848/29848 [00:00<00:00, 49747.98it/s]\n"
     ]
    },
    {
     "name": "stdout",
     "output_type": "stream",
     "text": [
      "dsjfdsomfosdmfodskmfosdkmf1.0\n"
     ]
    },
    {
     "name": "stderr",
     "output_type": "stream",
     "text": [
      "100%|██████████████████████████████████| 29848/29848 [00:00<00:00, 50459.72it/s]\n"
     ]
    },
    {
     "name": "stdout",
     "output_type": "stream",
     "text": [
      "0.25 0.1 0.006560304885761479 0.00034859740648407396\n",
      "\n",
      "simu/yukawa_scan_4/conf30\n",
      "cutFractions: 0.25  g: 0.2\n"
     ]
    },
    {
     "name": "stderr",
     "output_type": "stream",
     "text": [
      "100%|██████████████████████████████████| 29847/29847 [00:00<00:00, 49226.60it/s]\n"
     ]
    },
    {
     "name": "stdout",
     "output_type": "stream",
     "text": [
      "2.7556496301136\n",
      "0.0033077021500426502\n",
      "0.0002477898190024057\n",
      "28.219555044763883\n",
      "3.8554483313908174\n"
     ]
    },
    {
     "name": "stderr",
     "output_type": "stream",
     "text": [
      "100%|██████████████████████████████████| 29847/29847 [00:00<00:00, 48163.39it/s]\n"
     ]
    },
    {
     "name": "stdout",
     "output_type": "stream",
     "text": [
      "dsjfdsomfosdmfodskmfosdkmf1.0\n"
     ]
    },
    {
     "name": "stderr",
     "output_type": "stream",
     "text": [
      "100%|██████████████████████████████████| 29847/29847 [00:00<00:00, 47636.90it/s]\n"
     ]
    },
    {
     "name": "stdout",
     "output_type": "stream",
     "text": [
      "0.25 0.2 0.005775112464693818 0.0002842208025579168\n",
      "\n",
      "simu/yukawa_scan_4/conf31\n",
      "cutFractions: 0.25  g: 0.5\n"
     ]
    },
    {
     "name": "stderr",
     "output_type": "stream",
     "text": [
      "100%|██████████████████████████████████| 29847/29847 [00:00<00:00, 48618.05it/s]\n"
     ]
    },
    {
     "name": "stdout",
     "output_type": "stream",
     "text": [
      "2.9379735775789517\n",
      "0.0026437165689288406\n",
      "0.0001794386111585866\n",
      "22.416193682055408\n",
      "2.7838679556093764\n"
     ]
    },
    {
     "name": "stderr",
     "output_type": "stream",
     "text": [
      "100%|██████████████████████████████████| 29847/29847 [00:00<00:00, 47643.97it/s]\n"
     ]
    },
    {
     "name": "stdout",
     "output_type": "stream",
     "text": [
      "dsjfdsomfosdmfodskmfosdkmf1.0\n"
     ]
    },
    {
     "name": "stderr",
     "output_type": "stream",
     "text": [
      "100%|██████████████████████████████████| 29847/29847 [00:00<00:00, 48010.63it/s]\n"
     ]
    },
    {
     "name": "stdout",
     "output_type": "stream",
     "text": [
      "0.25 0.5 0.0046461340637781266 0.00019928414859800368\n",
      "\n",
      "simu/yukawa_scan_4/conf32\n",
      "cutFractions: 0.25  g: 1.0\n"
     ]
    },
    {
     "name": "stderr",
     "output_type": "stream",
     "text": [
      "100%|██████████████████████████████████| 29847/29847 [00:00<00:00, 49746.67it/s]\n"
     ]
    },
    {
     "name": "stdout",
     "output_type": "stream",
     "text": [
      "3.071401746239184\n",
      "0.002234114790867432\n",
      "0.00014077136317901237\n",
      "18.706741376611333\n",
      "2.1633580155670216\n"
     ]
    },
    {
     "name": "stderr",
     "output_type": "stream",
     "text": [
      "100%|██████████████████████████████████| 29847/29847 [00:00<00:00, 47847.90it/s]\n"
     ]
    },
    {
     "name": "stdout",
     "output_type": "stream",
     "text": [
      "dsjfdsomfosdmfodskmfosdkmf1.0\n"
     ]
    },
    {
     "name": "stderr",
     "output_type": "stream",
     "text": [
      "100%|██████████████████████████████████| 29847/29847 [00:00<00:00, 48240.64it/s]\n"
     ]
    },
    {
     "name": "stdout",
     "output_type": "stream",
     "text": [
      "0.25 1.0 0.003976885396716109 0.0001545103333577482\n",
      "\n",
      "simu/yukawa_scan_4/conf33\n",
      "cutFractions: 0.25  g: 2.0\n"
     ]
    },
    {
     "name": "stderr",
     "output_type": "stream",
     "text": [
      "100%|██████████████████████████████████| 29846/29846 [00:00<00:00, 48592.11it/s]\n"
     ]
    },
    {
     "name": "stdout",
     "output_type": "stream",
     "text": [
      "3.172197319908864\n",
      "0.0019621881991657556\n",
      "0.00011666049691605157\n",
      "16.352403209631614\n",
      "1.787406510976234\n"
     ]
    },
    {
     "name": "stderr",
     "output_type": "stream",
     "text": [
      "100%|██████████████████████████████████| 29846/29846 [00:00<00:00, 47136.59it/s]\n"
     ]
    },
    {
     "name": "stdout",
     "output_type": "stream",
     "text": [
      "dsjfdsomfosdmfodskmfosdkmf1.0\n"
     ]
    },
    {
     "name": "stderr",
     "output_type": "stream",
     "text": [
      "100%|██████████████████████████████████| 29846/29846 [00:00<00:00, 46895.75it/s]\n"
     ]
    },
    {
     "name": "stdout",
     "output_type": "stream",
     "text": [
      "0.25 2.0 0.003509805585368888 0.00012766178243682643\n",
      "\n",
      "simu/yukawa_scan_4/conf34\n",
      "cutFractions: 0.25  g: 3.0\n"
     ]
    },
    {
     "name": "stderr",
     "output_type": "stream",
     "text": [
      "100%|██████████████████████████████████| 29846/29846 [00:00<00:00, 48751.98it/s]\n"
     ]
    },
    {
     "name": "stdout",
     "output_type": "stream",
     "text": [
      "3.213559292367469\n",
      "0.0018776168786802882\n",
      "0.00010949566725092583\n",
      "15.637636868198786\n",
      "1.6774881879549541\n"
     ]
    },
    {
     "name": "stderr",
     "output_type": "stream",
     "text": [
      "100%|██████████████████████████████████| 29846/29846 [00:00<00:00, 47906.49it/s]\n"
     ]
    },
    {
     "name": "stdout",
     "output_type": "stream",
     "text": [
      "dsjfdsomfosdmfodskmfosdkmf1.0\n"
     ]
    },
    {
     "name": "stderr",
     "output_type": "stream",
     "text": [
      "100%|██████████████████████████████████| 29846/29846 [00:00<00:00, 49040.26it/s]\n"
     ]
    },
    {
     "name": "stdout",
     "output_type": "stream",
     "text": [
      "0.25 3.0 0.00336083137868575 0.00011642951271920781\n",
      "\n"
     ]
    }
   ],
   "source": [
    "phi = {}\n",
    "cond = {}\n",
    "absphi = {}\n",
    "chi2 = {}\n",
    "mr = {}\n",
    "mqphys = {}\n",
    "cutoffs = []\n",
    "\n",
    "for f in folders:\n",
    "    print(f)\n",
    "    params = toml.load(\"data/\" + f + \"/input.toml\") # read toml file with parameters\n",
    "\n",
    "    s = str(params['physics']['cutFraction']) # read cutoff\n",
    "    # if cutoff is not already in the list, add it and create the corresponding data arrays\n",
    "    if not (float(s) in cutoffs):\n",
    "        cutoffs.append(float(s))\n",
    "        phi[s] = []\n",
    "        cond[s] = []\n",
    "        chi2[s] = []\n",
    "        mr[s] = []\n",
    "        mqphys[s] = []\n",
    "\n",
    "    Nt = int(Nt0 / float(s))\n",
    "    Nx = int(Nx0 / float(s))\n",
    "    volume = (Nt, Nx)\n",
    "    \n",
    "    p = float(params['fermions']['yukawa_coupling']) # read yukawa coupling\n",
    "    if p == 0:\n",
    "        p = 1e-5\n",
    "    \n",
    "    print(\"cutFractions:\", s, \" g:\", p)\n",
    "\n",
    "    data = read_csv(\"data/\" + f + \"/traces.csv\") # read file with magnetisation, condensate, ...\n",
    "\n",
    "    # Get bosonic time slices computed in main.cu\n",
    "    S_t = get_time_slices_from_timeslicefile(\"data/\" + f + \"/slice.dat\", field_axis=0, return_all=False)\n",
    "    # Get fermionic time slices computed in main.cu\n",
    "    data_Sq_t = read_csv(\"data/\" + f + \"/data.csv\")\n",
    "    Sq_t = data_Sq_t['corr'].to_numpy(np.dtype('f8')).reshape((-1, Nt))\n",
    "\n",
    "    # magnetisation\n",
    "    blob = ComputeStatistics(data['sigma'])\n",
    "    val, err = get_abs_mag(data['sigma'].to_numpy()) # !!!!!!!!!!!!!!!!!!!!!!!!! ABSSSSSSSSSSSSSSSSS\n",
    "    phi[s].append((blob.average, blob.sigmaF, p))\n",
    "    \n",
    "    avgxxx = blob.average\n",
    "    print(blob.average)\n",
    "    print(blob.sigmaF)\n",
    "    print(blob.sigmaF_error)\n",
    "    print(blob.ACtime)\n",
    "    print(blob.ACtimeError)\n",
    "    \n",
    "    # condensate\n",
    "    val, err = get_mag(data['tr'].to_numpy())\n",
    "    blob = ComputeStatistics(data['tr'])\n",
    "    cond[s].append((blob.average, blob.sigmaF, p))\n",
    "    # susceptibility\n",
    "    val, err = get_chi2xxx(data['sigma'].to_numpy(), Nx*Nt)\n",
    "    blob = ComputeStatistics((data['sigma'] - avgxxx)**2)\n",
    "    chi2[s].append((blob.average, blob.sigmaF, p))\n",
    "    # renormalised bosonic mass\n",
    "    val, err = get_ren_mass_right_via_timeslices(S_t,volume)\n",
    "    mr[s].append((val, err, p))\n",
    "    # physical quark mass\n",
    "    val, err = get_phys_quark_mass_via_timeslices(Sq_t,volume)\n",
    "    print(s, p, blob.average, blob.sigmaF)\n",
    "    mqphys[s].append((val, err, p))\n",
    "\n",
    "    \n",
    "    print()\n",
    "\n",
    "for k in phi.keys():\n",
    "    phi[k] = sorted(phi[k], key=lambda x: x[2])\n",
    "    cond[k] = sorted(cond[k], key=lambda x: x[2])\n",
    "    chi2[k] = sorted(chi2[k], key=lambda x: x[2])\n",
    "    mr[k] = sorted(mr[k], key=lambda x: x[2])\n",
    "    mqphys[k] = sorted(mqphys[k], key=lambda x: x[2])"
   ]
  },
  {
   "cell_type": "code",
   "execution_count": 18,
   "id": "48a8dd3e-1536-4629-b724-fa288065ef29",
   "metadata": {},
   "outputs": [
    {
     "data": {
      "text/plain": [
       "'IMPORTANT: should I use the one for large t, small t or the whole? \\ntmp_ren = []\\ntmp_large_t = []\\ntmp_small_t = []\\n\\nS_t = get_time_slices_from_timeslicefile(\"data/sim1/slice.dat\")\\ntmp_ren = get_ren_mass_right_via_timeslices(S_t,volume)\\ntmp_large_ = get_masses_from_large_t(S_t, volume, [0,0,0,0],inc_in_fit=3, with_plot = False)\\ntmp_small_t = get_masses_from_small_t(S_t, volume, [0,0,0,0],inc_in_fit=3, with_plot = False)\\n\\nren_masses = tmp_ren\\nprint(\"ren mass:\", val, err)'"
      ]
     },
     "execution_count": 18,
     "metadata": {},
     "output_type": "execute_result"
    }
   ],
   "source": [
    "'''IMPORTANT: should I use the one for large t, small t or the whole? \n",
    "tmp_ren = []\n",
    "tmp_large_t = []\n",
    "tmp_small_t = []\n",
    "\n",
    "S_t = get_time_slices_from_timeslicefile(\"data/sim1/slice.dat\")\n",
    "tmp_ren = get_ren_mass_right_via_timeslices(S_t,volume)\n",
    "tmp_large_ = get_masses_from_large_t(S_t, volume, [0,0,0,0],inc_in_fit=3, with_plot = False)\n",
    "tmp_small_t = get_masses_from_small_t(S_t, volume, [0,0,0,0],inc_in_fit=3, with_plot = False)\n",
    "\n",
    "ren_masses = tmp_ren\n",
    "print(\"ren mass:\", val, err)'''"
   ]
  },
  {
   "cell_type": "markdown",
   "id": "3a286e66-ea51-4d32-86e9-6b81f04e1f08",
   "metadata": {},
   "source": [
    "# Plot Stuff"
   ]
  },
  {
   "cell_type": "markdown",
   "id": "8458366e-8551-403c-bc31-1a8f82b02919",
   "metadata": {},
   "source": [
    "### Plot of the magnetization"
   ]
  },
  {
   "cell_type": "code",
   "execution_count": 19,
   "id": "8e618612-80b6-4ef0-82fe-a9ce63b2f40d",
   "metadata": {},
   "outputs": [
    {
     "data": {
      "image/png": "[encoded data removed]",
      "text/plain": [
       "<Figure size 640x480 with 1 Axes>"
      ]
     },
     "metadata": {},
     "output_type": "display_data"
    }
   ],
   "source": [
    "for k in phi.keys():\n",
    "    plt.errorbar([v[2] for v in phi[k]], [v[0] for v in phi[k]], [v[1] for v in phi[k]], fmt='o--', label='s = ' + str(k))\n",
    "\n",
    "plt.legend(fontsize=12)\n",
    "#plt.xscale('log')\n",
    "plt.xlabel(r'$g$', fontsize=16)\n",
    "plt.ylabel(r'$\\left\\langle \\phi \\right\\rangle$', fontsize=16)\n",
    "plt.tight_layout()\n",
    "plt.grid()\n",
    "plt.savefig(\"phi.pdf\")\n",
    "plt.show()"
   ]
  },
  {
   "cell_type": "markdown",
   "id": "f033110d-ccab-470c-b762-db8fdb5fffd3",
   "metadata": {},
   "source": [
    "### Plot of the magnetic susceptibility"
   ]
  },
  {
   "cell_type": "code",
   "execution_count": 20,
   "id": "bc634950-5c1f-4809-a21b-ae81c0781369",
   "metadata": {},
   "outputs": [
    {
     "data": {
      "image/png": "[encoded data removed]",
      "text/plain": [
       "<Figure size 640x480 with 1 Axes>"
      ]
     },
     "metadata": {},
     "output_type": "display_data"
    }
   ],
   "source": [
    "for k, c in zip(chi2.keys(), colors):\n",
    "    xvals = [v[2] for v in chi2[k]]\n",
    "    yvals = [v[0] for v in chi2[k]]\n",
    "    errs = [v[1] for v in chi2[k]]\n",
    "    plt.errorbar(xvals, yvals, errs, fmt='o--', label='s = ' + str(k), color=c)\n",
    "    #plt.plot([xvals[yvals.index(max(yvals))], xvals[yvals.index(max(yvals))]], [min(yvals), max(yvals)], '--', color=c)\n",
    "\n",
    "plt.legend(fontsize=12)\n",
    "#plt.xscale('log')\n",
    "plt.xlabel(r'$g$', fontsize=16)\n",
    "plt.ylabel(r'$\\chi^2$', fontsize=16)\n",
    "plt.tight_layout()\n",
    "plt.grid()\n",
    "plt.savefig(\"chi2.pdf\")\n",
    "plt.show()"
   ]
  },
  {
   "cell_type": "markdown",
   "id": "911c8224-6a02-4bcb-b89a-9a0027684e68",
   "metadata": {},
   "source": [
    "### Plot of the condensate"
   ]
  },
  {
   "cell_type": "code",
   "execution_count": 21,
   "id": "836f9b36-bae4-48af-9121-97373f71a1cd",
   "metadata": {},
   "outputs": [
    {
     "data": {
      "image/png": "[encoded data removed]",
      "text/plain": [
       "<Figure size 640x480 with 1 Axes>"
      ]
     },
     "metadata": {},
     "output_type": "display_data"
    }
   ],
   "source": [
    "for k in cond.keys():\n",
    "    Nx = Nx0/float(k)\n",
    "    plt.errorbar([v[2] for v in cond[k]], [Nx*Nx*v[0] for v in cond[k]], [Nx*Nx*v[1] for v in cond[k]], fmt='o--', label='s = ' + str(k))\n",
    "\n",
    "plt.legend(fontsize=12)\n",
    "#plt.xscale('log')\n",
    "plt.xlabel(r'$g$', fontsize=16)\n",
    "plt.ylabel(r'$N_x^2 \\, \\left\\langle \\bar \\psi \\psi \\right\\rangle$', fontsize=16)\n",
    "plt.tight_layout()\n",
    "plt.grid()\n",
    "plt.savefig(\"condensate.pdf\")\n",
    "plt.show()"
   ]
  },
  {
   "cell_type": "markdown",
   "id": "94fff7ff-2246-43df-84fe-1888c48716d7",
   "metadata": {},
   "source": [
    "### Plot of the physical quark mass"
   ]
  },
  {
   "cell_type": "code",
   "execution_count": 22,
   "id": "d7adea67-a884-4020-9c93-447d1e4d55f6",
   "metadata": {},
   "outputs": [
    {
     "data": {
      "image/png": "[encoded data removed]",
      "text/plain": [
       "<Figure size 640x480 with 1 Axes>"
      ]
     },
     "metadata": {},
     "output_type": "display_data"
    }
   ],
   "source": [
    "for k in mr.keys():\n",
    "    Nx = Nx0/float(k)\n",
    "    plt.errorbar([v[2] for v in mqphys[k]], [v[0] for v in mqphys[k]], [0 for _ in range(len(mqphys[k]))], fmt='o--', label='s = ' + str(k))\n",
    "\n",
    "plt.legend(fontsize=12)\n",
    "#plt.xscale('log')\n",
    "plt.xlabel(r'$g$', fontsize=16)\n",
    "plt.ylabel(r'$m^q_{phys}$', fontsize=16)\n",
    "plt.tight_layout()\n",
    "plt.grid()\n",
    "plt.savefig(\"mqphys.pdf\")\n",
    "plt.show()"
   ]
  },
  {
   "cell_type": "markdown",
   "id": "96d97e95-9dda-4793-8032-b3fd1301de97",
   "metadata": {},
   "source": [
    "### Plot of the bosonic renormalised mass"
   ]
  },
  {
   "cell_type": "code",
   "execution_count": 23,
   "id": "19117de8-6543-46c1-a5d1-5d7f43b7d2d6",
   "metadata": {
    "scrolled": true
   },
   "outputs": [
    {
     "data": {
      "image/png": "[encoded data removed]",
      "text/plain": [
       "<Figure size 640x480 with 1 Axes>"
      ]
     },
     "metadata": {},
     "output_type": "display_data"
    }
   ],
   "source": [
    "for k in mr.keys():\n",
    "    Nx = Nx0/float(k)\n",
    "    plt.errorbar([v[2] for v in mr[k]], [Nx*v[0] for v in mr[k]], [Nx*v[1] for v in mr[k]], fmt='o--', label='s = ' + str(k))\n",
    "\n",
    "plt.legend(fontsize=12)\n",
    "plt.xscale('log')\n",
    "plt.xlabel(r'$m_\\phi^2$', fontsize=16)\n",
    "plt.ylabel(r'$N_x \\, m^\\phi_r$', fontsize=16)\n",
    "plt.tight_layout()\n",
    "plt.grid()\n",
    "plt.savefig(\"mphir.pdf\")\n",
    "plt.show()"
   ]
  },
  {
   "cell_type": "markdown",
   "id": "lucky-bailey",
   "metadata": {},
   "source": [
    "# Physical quark mass"
   ]
  },
  {
   "cell_type": "code",
   "execution_count": 13,
   "id": "worse-tissue",
   "metadata": {},
   "outputs": [
    {
     "ename": "FileNotFoundError",
     "evalue": "[Errno 2] No such file or directory: 'data/dataset2/s_1_0/conf1/input.toml'",
     "output_type": "error",
     "traceback": [
      "\u001b[0;31m---------------------------------------------------------------------------\u001b[0m",
      "\u001b[0;31mFileNotFoundError\u001b[0m                         Traceback (most recent call last)",
      "Cell \u001b[0;32mIn[13], line 21\u001b[0m\n\u001b[1;32m     17\u001b[0m     \u001b[38;5;66;03m#print(\"Mass: \", abs(fitparams[0][0]))\u001b[39;00m\n\u001b[1;32m     19\u001b[0m     \u001b[38;5;28;01mreturn\u001b[39;00m fitparams[\u001b[38;5;241m0\u001b[39m]\n\u001b[0;32m---> 21\u001b[0m params \u001b[38;5;241m=\u001b[39m \u001b[43mtoml\u001b[49m\u001b[38;5;241;43m.\u001b[39;49m\u001b[43mload\u001b[49m\u001b[43m(\u001b[49m\u001b[38;5;124;43m\"\u001b[39;49m\u001b[38;5;124;43mdata/\u001b[39;49m\u001b[38;5;124;43m\"\u001b[39;49m\u001b[43m \u001b[49m\u001b[38;5;241;43m+\u001b[39;49m\u001b[43m \u001b[49m\u001b[43mdata_folder\u001b[49m\u001b[43m \u001b[49m\u001b[38;5;241;43m+\u001b[39;49m\u001b[43m \u001b[49m\u001b[38;5;124;43m\"\u001b[39;49m\u001b[38;5;124;43m/input.toml\u001b[39;49m\u001b[38;5;124;43m\"\u001b[39;49m\u001b[43m)\u001b[49m \u001b[38;5;66;03m# read toml file with parameters\u001b[39;00m\n\u001b[1;32m     22\u001b[0m s \u001b[38;5;241m=\u001b[39m params[\u001b[38;5;124m'\u001b[39m\u001b[38;5;124mphysics\u001b[39m\u001b[38;5;124m'\u001b[39m][\u001b[38;5;124m'\u001b[39m\u001b[38;5;124mcutFraction\u001b[39m\u001b[38;5;124m'\u001b[39m] \u001b[38;5;66;03m# read cutoff\u001b[39;00m\n\u001b[1;32m     23\u001b[0m g \u001b[38;5;241m=\u001b[39m params[\u001b[38;5;124m'\u001b[39m\u001b[38;5;124mfermions\u001b[39m\u001b[38;5;124m'\u001b[39m][\u001b[38;5;124m'\u001b[39m\u001b[38;5;124myukawa_coupling\u001b[39m\u001b[38;5;124m'\u001b[39m]\n",
      "File \u001b[0;32m~/.local/lib/python3.10/site-packages/toml/decoder.py:133\u001b[0m, in \u001b[0;36mload\u001b[0;34m(f, _dict, decoder)\u001b[0m\n\u001b[1;32m    114\u001b[0m \u001b[38;5;250m\u001b[39m\u001b[38;5;124;03m\"\"\"Parses named file or files as toml and returns a dictionary\u001b[39;00m\n\u001b[1;32m    115\u001b[0m \n\u001b[1;32m    116\u001b[0m \u001b[38;5;124;03mArgs:\u001b[39;00m\n\u001b[0;32m   (...)\u001b[0m\n\u001b[1;32m    129\u001b[0m \u001b[38;5;124;03m    (Python 2 / Python 3)          file paths is passed\u001b[39;00m\n\u001b[1;32m    130\u001b[0m \u001b[38;5;124;03m\"\"\"\u001b[39;00m\n\u001b[1;32m    132\u001b[0m \u001b[38;5;28;01mif\u001b[39;00m _ispath(f):\n\u001b[0;32m--> 133\u001b[0m     \u001b[38;5;28;01mwith\u001b[39;00m \u001b[43mio\u001b[49m\u001b[38;5;241;43m.\u001b[39;49m\u001b[43mopen\u001b[49m\u001b[43m(\u001b[49m\u001b[43m_getpath\u001b[49m\u001b[43m(\u001b[49m\u001b[43mf\u001b[49m\u001b[43m)\u001b[49m\u001b[43m,\u001b[49m\u001b[43m \u001b[49m\u001b[43mencoding\u001b[49m\u001b[38;5;241;43m=\u001b[39;49m\u001b[38;5;124;43m'\u001b[39;49m\u001b[38;5;124;43mutf-8\u001b[39;49m\u001b[38;5;124;43m'\u001b[39;49m\u001b[43m)\u001b[49m \u001b[38;5;28;01mas\u001b[39;00m ffile:\n\u001b[1;32m    134\u001b[0m         \u001b[38;5;28;01mreturn\u001b[39;00m loads(ffile\u001b[38;5;241m.\u001b[39mread(), _dict, decoder)\n\u001b[1;32m    135\u001b[0m \u001b[38;5;28;01melif\u001b[39;00m \u001b[38;5;28misinstance\u001b[39m(f, \u001b[38;5;28mlist\u001b[39m):\n",
      "\u001b[0;31mFileNotFoundError\u001b[0m: [Errno 2] No such file or directory: 'data/dataset2/s_1_0/conf1/input.toml'"
     ]
    }
   ],
   "source": [
    "from scipy.optimize import curve_fit as fit\n",
    "\n",
    "####################################################\n",
    "data_folder = \"dataset2/s_1_0/conf1\"\n",
    "Nt = 16\n",
    "plot = True\n",
    "####################################################\n",
    "\n",
    "def fitfuncSinh(x, m_re, A):\n",
    "    return A * np.sinh(m_re*(Nt/2-x))\n",
    "\n",
    "def fitToSinh(ydata, startidx, endidx, plot=False):\n",
    "    yvals = ydata[startidx:endidx]\n",
    "    xvals = np.array(range(startidx, endidx))\n",
    "\n",
    "    fitparams = fit(fitfuncSinh, xvals, yvals, p0=[1e-2, 0])\n",
    "    #print(\"Mass: \", abs(fitparams[0][0]))\n",
    "        \n",
    "    return fitparams[0]\n",
    "\n",
    "params = toml.load(\"data/\" + data_folder + \"/input.toml\") # read toml file with parameters\n",
    "s = params['physics']['cutFraction'] # read cutoff\n",
    "g = params['fermions']['yukawa_coupling']\n",
    "\n",
    "data = read_csv(\"data/\" + data_folder + \"/data.csv\")\n",
    "timeslices = data['corr'].to_numpy(np.dtype('f8')).reshape((-1, Nt))\n",
    "\n",
    "corr = np.average(timeslices, axis=0)\n",
    "\n",
    "fitparams = fitToSinh(corr, 1, Nt, plot)\n",
    "\n",
    "print(\"s:\", s, \" g:\", g)\n",
    "print(\"Number of data points:\", timeslices.shape[0])\n",
    "print(\"Nt:\", Nt)\n",
    "print(\"Mass =\", fitparams[0])"
   ]
  },
  {
   "cell_type": "code",
   "execution_count": null,
   "id": "a3088e35-2246-4cc9-837b-2baa3d239773",
   "metadata": {},
   "outputs": [],
   "source": [
    "plt.plot(range(1, Nt), corr[1:Nt])\n",
    "plt.xlabel(r'$N_t$')\n",
    "plt.title(\"Correlator\")\n",
    "plt.tight_layout()\n",
    "plt.savefig(\"mass.pdf\")\n",
    "plt.show()"
   ]
  },
  {
   "cell_type": "code",
   "execution_count": null,
   "id": "a52c131a-d7e0-41b8-9993-4491423b4204",
   "metadata": {},
   "outputs": [],
   "source": [
    "plt.plot(range(1, Nt), corr[1:Nt], label=\"data\")\n",
    "xvals = np.linspace(0, Nt, 1000)\n",
    "plt.plot(xvals, fitfuncSinh(xvals, fitparams[0], fitparams[1]), label='fit')\n",
    "plt.legend()\n",
    "plt.xlabel(r'$N_t$')\n",
    "plt.title(\"Correlator\")\n",
    "plt.tight_layout()\n",
    "plt.savefig(\"mass.pdf\")\n",
    "plt.show()"
   ]
  },
  {
   "cell_type": "markdown",
   "id": "residential-giving",
   "metadata": {},
   "source": [
    "Compute expected mass from background fields"
   ]
  },
  {
   "cell_type": "code",
   "execution_count": null,
   "id": "2aa8bf4a-b383-4b47-81ad-38513d1ce853",
   "metadata": {},
   "outputs": [],
   "source": [
    "def expectedM(m0, g, sigma, pi):\n",
    "    r2 = sigma**2 + pi[0]**2 + pi[1]**2 + pi[2]**2\n",
    "    denom = 2*(g*sigma + m0 + 1)\n",
    "    sqrroot = np.sqrt((g**2*r2 + 2*m0*(g*sigma + 1) + 2*g*sigma + m0**2 + 2)**2 - 4*(g*sigma+m0+1)**2)\n",
    "    num = -sqrroot + g**2*r2 + 2*g*m0*sigma + 2*g*sigma + m0**2 + 2*m0 + 2\n",
    "    return -np.log(num/denom)\n",
    "\n",
    "mq0 = 0.2\n",
    "yukawa_coupling = 0.1\n",
    "sigma = 0.16\n",
    "pi = [0, 0, 0]\n",
    "\n",
    "print(\"Expected mass with phi =\", np.concatenate(([sigma], pi)), \":\", expectedM(mq0, yukawa_coupling, sigma, pi))"
   ]
  },
  {
   "cell_type": "markdown",
   "id": "6df606df-db92-4183-95f3-fabac59f8dec",
   "metadata": {},
   "source": [
    "# Renormalised boson mass"
   ]
  },
  {
   "cell_type": "code",
   "execution_count": 21,
   "id": "210fa0da-2ff9-46ff-a90a-edeb3d5c48e7",
   "metadata": {},
   "outputs": [],
   "source": [
    "from correlations import *\n",
    "from read_in_data import *\n",
    "from mass_fit import *"
   ]
  },
  {
   "cell_type": "code",
   "execution_count": null,
   "id": "057744d2-0f84-43a0-97ad-09537cd0373a",
   "metadata": {},
   "outputs": [],
   "source": [
    "####################################################\n",
    "f = \"dataset1/s_1_0/conf1\"\n",
    "Nt = 16\n",
    "Nx = 16\n",
    "####################################################\n",
    "volume = (Nt, Nx)"
   ]
  },
  {
   "cell_type": "code",
   "execution_count": null,
   "id": "d2833a9a-a272-4360-901b-7a21d87b368b",
   "metadata": {},
   "outputs": [],
   "source": [
    "S_t = get_time_slices_from_timeslicefile(\"data/\" + f + \"/slice.dat\", field_axis=0, return_all=False)\n",
    "val, err = get_phys_quark_mass_via_timeslices(S_t,volume)\n",
    "print(\"mr:\", val, err)"
   ]
  },
  {
   "cell_type": "markdown",
   "id": "719bc6fe-3b3d-48e2-b989-0e3222fe7540",
   "metadata": {},
   "source": [
    "# Mean Field equations of motion"
   ]
  },
  {
   "cell_type": "markdown",
   "id": "912f80ca-810e-4fbf-b82e-ce5a6d452700",
   "metadata": {},
   "source": [
    "Reset data arrays"
   ]
  },
  {
   "cell_type": "code",
   "execution_count": null,
   "id": "7a4d49ef-1f44-4a7e-a769-b653151262e3",
   "metadata": {},
   "outputs": [],
   "source": [
    "sigma_vals = []\n",
    "sigma_errs = []\n",
    "tr_vals = []\n",
    "tr_errs = []\n",
    "cutFractions = []"
   ]
  },
  {
   "cell_type": "code",
   "execution_count": 39,
   "id": "marine-southwest",
   "metadata": {},
   "outputs": [
    {
     "ename": "FileNotFoundError",
     "evalue": "[Errno 2] No such file or directory: 'data/s1'",
     "output_type": "error",
     "traceback": [
      "\u001b[0;31m---------------------------------------------------------------------------\u001b[0m",
      "\u001b[0;31mFileNotFoundError\u001b[0m                         Traceback (most recent call last)",
      "\u001b[0;32m<ipython-input-39-0f15e8c03f0b>\u001b[0m in \u001b[0;36m<module>\u001b[0;34m\u001b[0m\n\u001b[1;32m     13\u001b[0m     \u001b[0mdata\u001b[0m \u001b[0;34m=\u001b[0m \u001b[0;34m[\u001b[0m\u001b[0;34m]\u001b[0m \u001b[0;31m# each element will be a triple (s, sigma, err_sigma)\u001b[0m\u001b[0;34m\u001b[0m\u001b[0;34m\u001b[0m\u001b[0m\n\u001b[1;32m     14\u001b[0m     \u001b[0mdata_trace\u001b[0m \u001b[0;34m=\u001b[0m \u001b[0;34m[\u001b[0m\u001b[0;34m]\u001b[0m \u001b[0;31m# each element will be a triple (s, condensate, err_condensate)\u001b[0m\u001b[0;34m\u001b[0m\u001b[0;34m\u001b[0m\u001b[0m\n\u001b[0;32m---> 15\u001b[0;31m     \u001b[0;32mfor\u001b[0m \u001b[0mf\u001b[0m \u001b[0;32min\u001b[0m \u001b[0mos\u001b[0m\u001b[0;34m.\u001b[0m\u001b[0mlistdir\u001b[0m\u001b[0;34m(\u001b[0m\u001b[0mmypath\u001b[0m \u001b[0;34m+\u001b[0m \u001b[0mfold\u001b[0m\u001b[0;34m)\u001b[0m\u001b[0;34m:\u001b[0m\u001b[0;34m\u001b[0m\u001b[0;34m\u001b[0m\u001b[0m\n\u001b[0m\u001b[1;32m     16\u001b[0m \u001b[0;34m\u001b[0m\u001b[0m\n\u001b[1;32m     17\u001b[0m         \u001b[0mfull_path\u001b[0m \u001b[0;34m=\u001b[0m \u001b[0mmypath\u001b[0m \u001b[0;34m+\u001b[0m \u001b[0mfold\u001b[0m \u001b[0;34m+\u001b[0m \u001b[0;34m\"/\"\u001b[0m \u001b[0;34m+\u001b[0m \u001b[0mf\u001b[0m \u001b[0;34m+\u001b[0m \u001b[0;34m\"/\"\u001b[0m\u001b[0;34m\u001b[0m\u001b[0;34m\u001b[0m\u001b[0m\n",
      "\u001b[0;31mFileNotFoundError\u001b[0m: [Errno 2] No such file or directory: 'data/s1'"
     ]
    }
   ],
   "source": [
    "rcParams['text.usetex'] = True\n",
    "\n",
    "####################################################\n",
    "folders = [\"s1\"]\n",
    "mypath = \"data/\"\n",
    "plot_trace = True\n",
    "####################################################\n",
    "\n",
    "\n",
    "c = 0\n",
    "for fold in folders:\n",
    "    s = []\n",
    "    data = [] # each element will be a triple (s, sigma, err_sigma)\n",
    "    data_trace = [] # each element will be a triple (s, condensate, err_condensate)\n",
    "    for f in os.listdir(mypath + fold):\n",
    "        \n",
    "        full_path = mypath + fold + \"/\" + f + \"/\"   \n",
    "        \n",
    "        params = toml.load(full_path + \"/input.toml\")\n",
    "        s = float(params['physics']['cutFraction'])\n",
    "       \n",
    "        filedata = read_csv(full_path + \"traces.csv\")\n",
    "        N = len(filedata['sigma'])\n",
    "    \n",
    "        # vals\n",
    "        sigma = np.average(filedata['sigma'].to_numpy())\n",
    "        tr = np.average(filedata['tr'].to_numpy())\n",
    "        \n",
    "        print(\"s =\", s, \" <|sigma|> = \", sigma, \" <|psibar psi|> = \", tr)\n",
    "        \n",
    "        # errs\n",
    "        sigma_err = np.std(filedata['sigma'].to_numpy()) / np.sqrt(N-1)\n",
    "        tr_err = np.std(filedata['tr'].to_numpy()) / np.sqrt(N-1)\n",
    "                    \n",
    "        data.append((s, sigma, sigma_err))\n",
    "        data_trace.append((s, tr, tr_err))\n",
    "    \n",
    "    data = sorted(data, key=lambda x: x[0])\n",
    "    data_trace = sorted(data_trace, key=lambda x: x[0])\n",
    "                    \n",
    "    for el in data:\n",
    "        cutFractions.append(el[0])\n",
    "        sigma_vals.append(el[1])\n",
    "        sigma_errs.append(el[2])\n",
    "    \n",
    "    for el in data_trace:\n",
    "        tr_vals.append(el[1])\n",
    "        tr_errs.append(el[2])\n",
    "\n",
    "    plt.errorbar(cutFractions, sigma_vals, yerr=sigma_errs, fmt='o', color=colors[c])\n",
    "    if plot_trace:\n",
    "        plt.errorbar(cutFractions, [t/1 for t in tr_vals], yerr=[t/1 for t in tr_errs], fmt='o')\n",
    "\n",
    "    c += 1\n",
    "                    \n",
    "plt.show()\n",
    "\n"
   ]
  },
  {
   "cell_type": "code",
   "execution_count": null,
   "id": "decimal-accessory",
   "metadata": {},
   "outputs": [],
   "source": []
  },
  {
   "cell_type": "code",
   "execution_count": null,
   "id": "danish-brass",
   "metadata": {},
   "outputs": [],
   "source": []
  }
 ],
 "metadata": {
  "kernelspec": {
   "display_name": "Python 3 (ipykernel)",
   "language": "python",
   "name": "python3"
  },
  "language_info": {
   "codemirror_mode": {
    "name": "ipython",
    "version": 3
   },
   "file_extension": ".py",
   "mimetype": "text/x-python",
   "name": "python",
   "nbconvert_exporter": "python",
   "pygments_lexer": "ipython3",
   "version": "3.10.12"
  }
 },
 "nbformat": 4,
 "nbformat_minor": 5
}
